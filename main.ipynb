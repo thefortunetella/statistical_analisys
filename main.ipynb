{
 "cells": [
  {
   "cell_type": "code",
   "execution_count": 63,
   "metadata": {},
   "outputs": [],
   "source": [
    "import requests\n",
    "import pandas as pd\n",
    "import yfinance as yf\n",
    "import plotly as plt\n",
    "import plotly.express as px\n",
    "import streamlit as st\n",
    "import scipy.stats as stats\n",
    "from scipy.stats import ttest_ind, f_oneway\n",
    "import numpy as np"
   ]
  },
  {
   "cell_type": "code",
   "execution_count": 64,
   "metadata": {},
   "outputs": [
    {
     "name": "stdout",
     "output_type": "stream",
     "text": [
      "Tickers disponíveis: ['WEGE3.SA', 'KEPL3.SA', 'ROMI3.SA', 'TASA3.SA', 'SHUL4.SA', 'POMO4.SA', 'VLID3.SA', 'EMBR3.SA', 'RAPT4.SA', 'TUPY3.SA', 'RAIL3.SA', 'GOLL4.SA', 'AZUL4.SA', 'JSLG3.SA', 'LOGN3.SA']\n"
     ]
    }
   ],
   "source": [
    "tickers = [\n",
    "    \"WEGE3.SA\", \"KEPL3.SA\", \"ROMI3.SA\", \"TASA3.SA\", \"SHUL4.SA\", \"POMO4.SA\",\n",
    "    \"VLID3.SA\", \"EMBR3.SA\", \"RAPT4.SA\", \"TUPY3.SA\", \"RAIL3.SA\", \"GOLL4.SA\",\n",
    "    \"AZUL4.SA\", \"JSLG3.SA\", \"LOGN3.SA\"\n",
    "]\n",
    "\n",
    "# Função para testar se os tickers estão disponíveis\n",
    "def check_tickers_availability(tickers):\n",
    "    valid_tickers = []\n",
    "    for ticker in tickers:\n",
    "        try:\n",
    "            df = yf.download(ticker, period=\"1mo\", progress=False)\n",
    "            if not df.empty:\n",
    "                valid_tickers.append(ticker)\n",
    "        except Exception as e:\n",
    "            print(f\"Erro ao verificar {ticker}: {e}\")\n",
    "    return valid_tickers\n",
    "\n",
    "# Verificar tickers válidos\n",
    "valid_tickers = check_tickers_availability(tickers)\n",
    "\n",
    "# Exibir os tickers que funcionam\n",
    "print(\"Tickers disponíveis:\", valid_tickers)"
   ]
  },
  {
   "cell_type": "code",
   "execution_count": 65,
   "metadata": {},
   "outputs": [],
   "source": [
    "\n",
    "# Lista de tickers válidos\n",
    "valid_tickers = ['WEGE3.SA', 'KEPL3.SA', 'ROMI3.SA', 'TASA3.SA', 'SHUL4.SA', \n",
    "                 'POMO4.SA', 'VLID3.SA', 'EMBR3.SA', 'RAPT4.SA', 'TUPY3.SA', \n",
    "                 'RAIL3.SA', 'GOLL4.SA', 'AZUL4.SA', 'JSLG3.SA', 'LOGN3.SA']\n",
    "\n",
    "# Definir o período de análise\n",
    "start_date = \"2019-01-01\"\n",
    "end_date = \"2024-12-31\"\n",
    "\n",
    "# Função para baixar os preços de fechamento ajustados das ações\n",
    "def get_stock_data(tickers, start_date, end_date):\n",
    "    data = yf.download(tickers, start=start_date, end=end_date, interval='1mo', progress=False)['Close']\n",
    "    return data\n",
    "\n",
    "# Baixando os dados das ações disponíveis\n",
    "stock_data = get_stock_data(valid_tickers, start_date, end_date)\n",
    "\n",
    "# Exibir as primeiras linhas dos dados coletados\n",
    "stock_data = stock_data.reset_index()"
   ]
  },
  {
   "cell_type": "code",
   "execution_count": 66,
   "metadata": {},
   "outputs": [
    {
     "name": "stdout",
     "output_type": "stream",
     "text": [
      "          Date  Selic\n",
      "389 2019-01-01    6.4\n",
      "390 2019-02-01    6.4\n",
      "391 2019-03-01    6.4\n",
      "392 2019-04-01    6.4\n",
      "393 2019-05-01    6.4\n"
     ]
    }
   ],
   "source": [
    "\n",
    "# Função para obter dados da SELIC via API do Banco Central do Brasil (BCB)\n",
    "def get_selic_data():\n",
    "    url = \"https://api.bcb.gov.br/dados/serie/bcdata.sgs.4189/dados?formato=json\"  # Código 4189 corresponde à SELIC\n",
    "    response = requests.get(url)\n",
    "    if response.status_code == 200:\n",
    "        data = response.json()\n",
    "        df_selic = pd.DataFrame(data)\n",
    "        df_selic['data'] = pd.to_datetime(df_selic['data'], format='%d/%m/%Y')\n",
    "        df_selic['valor'] = df_selic['valor'].astype(float)\n",
    "        df_selic.rename(columns={'data': 'Date', 'valor': 'Selic'}, inplace=True)\n",
    "        return df_selic\n",
    "    else:\n",
    "        print(\"Erro ao obter dados da SELIC\")\n",
    "        return None\n",
    "\n",
    "# Obtendo os dados da SELIC\n",
    "df_selic = get_selic_data()\n",
    "\n",
    "# Filtrar os dados para manter apenas de 2019 a 2024\n",
    "df_selic_filtered = df_selic[(df_selic['Date'] >= \"2019-01-01\") & (df_selic['Date'] <= \"2024-12-31\")]\n",
    "\n",
    "# Exibir as primeiras linhas dos dados filtrados\n",
    "print(df_selic_filtered.head())\n",
    "\n"
   ]
  },
  {
   "cell_type": "code",
   "execution_count": 67,
   "metadata": {},
   "outputs": [
    {
     "name": "stdout",
     "output_type": "stream",
     "text": [
      "        Date  Fed_Funds\n",
      "0 2019-01-01       2.40\n",
      "1 2019-02-01       2.40\n",
      "2 2019-03-01       2.41\n",
      "3 2019-04-01       2.42\n",
      "4 2019-05-01       2.39\n"
     ]
    }
   ],
   "source": [
    "df_fed_funds = pd.read_csv(\"FEDFUNDS.csv\", parse_dates=['observation_date'])\n",
    "\n",
    "# Renomeando colunas\n",
    "df_fed_funds.rename(columns={'observation_date': 'Date', 'FEDFUNDS': 'Fed_Funds'}, inplace=True)\n",
    "\n",
    "# Filtrando os dados entre 2019 e 2024\n",
    "df_fed_funds = df_fed_funds[(df_fed_funds['Date'] >= \"2019-01-01\") & (df_fed_funds['Date'] <= \"2024-12-31\")]\n",
    "\n",
    "# Exibir os dados carregados\n",
    "print(df_fed_funds.head())\n"
   ]
  },
  {
   "cell_type": "code",
   "execution_count": 68,
   "metadata": {},
   "outputs": [
    {
     "name": "stdout",
     "output_type": "stream",
     "text": [
      "        Date  Selic  Fed_Funds\n",
      "0 2019-01-01    6.4       2.40\n",
      "1 2019-02-01    6.4       2.40\n",
      "2 2019-03-01    6.4       2.41\n",
      "3 2019-04-01    6.4       2.42\n",
      "4 2019-05-01    6.4       2.39\n"
     ]
    }
   ],
   "source": [
    "# Definir índice como data para facilitar junção\n",
    "df_selic_filtered.set_index('Date', inplace=True)\n",
    "df_fed_funds.set_index('Date', inplace=True)\n",
    "\n",
    "# Juntar os dados pelo índice de data\n",
    "df_rates = df_selic_filtered.join(df_fed_funds, how='inner')\n",
    "\n",
    "# Resetar o índice\n",
    "df_rates.reset_index(inplace=True)\n",
    "\n",
    "# Exibir as primeiras linhas para validar\n",
    "print(df_rates.head())\n"
   ]
  },
  {
   "cell_type": "markdown",
   "metadata": {},
   "source": [
    "---\n",
    "\n",
    "### **📊 Correlação entre Selic e Fed Funds Rate**\n",
    "\n",
    "\n",
    "---\n"
   ]
  },
  {
   "cell_type": "code",
   "execution_count": 88,
   "metadata": {},
   "outputs": [
    {
     "data": {
      "application/vnd.plotly.v1+json": {
       "config": {
        "plotlyServerURL": "https://plot.ly"
       },
       "data": [
        {
         "coloraxis": "coloraxis",
         "hovertemplate": "x: %{x}<br>y: %{y}<br>color: %{z}<extra></extra>",
         "name": "0",
         "texttemplate": "%{z}",
         "type": "heatmap",
         "x": [
          "Selic",
          "Fed_Funds"
         ],
         "xaxis": "x",
         "y": [
          "Selic",
          "Fed_Funds"
         ],
         "yaxis": "y",
         "z": [
          [
           1,
           0.737097762049285
          ],
          [
           0.737097762049285,
           1
          ]
         ]
        }
       ],
       "layout": {
        "coloraxis": {
         "colorbar": {
          "tickfont": {
           "size": 12
          },
          "title": {
           "font": {
            "size": 14
           },
           "text": "Correlação"
          }
         },
         "colorscale": [
          [
           0,
           "#dbe9f6"
          ],
          [
           1,
           "#08306b"
          ]
         ]
        },
        "font": {
         "size": 14
        },
        "template": {
         "data": {
          "candlestick": [
           {
            "decreasing": {
             "line": {
              "color": "#000033"
             }
            },
            "increasing": {
             "line": {
              "color": "#000032"
             }
            },
            "type": "candlestick"
           }
          ],
          "contour": [
           {
            "colorscale": [
             [
              0,
              "#000011"
             ],
             [
              0.1111111111111111,
              "#000012"
             ],
             [
              0.2222222222222222,
              "#000013"
             ],
             [
              0.3333333333333333,
              "#000014"
             ],
             [
              0.4444444444444444,
              "#000015"
             ],
             [
              0.5555555555555556,
              "#000016"
             ],
             [
              0.6666666666666666,
              "#000017"
             ],
             [
              0.7777777777777778,
              "#000018"
             ],
             [
              0.8888888888888888,
              "#000019"
             ],
             [
              1,
              "#000020"
             ]
            ],
            "type": "contour"
           }
          ],
          "contourcarpet": [
           {
            "colorscale": [
             [
              0,
              "#000011"
             ],
             [
              0.1111111111111111,
              "#000012"
             ],
             [
              0.2222222222222222,
              "#000013"
             ],
             [
              0.3333333333333333,
              "#000014"
             ],
             [
              0.4444444444444444,
              "#000015"
             ],
             [
              0.5555555555555556,
              "#000016"
             ],
             [
              0.6666666666666666,
              "#000017"
             ],
             [
              0.7777777777777778,
              "#000018"
             ],
             [
              0.8888888888888888,
              "#000019"
             ],
             [
              1,
              "#000020"
             ]
            ],
            "type": "contourcarpet"
           }
          ],
          "heatmap": [
           {
            "colorscale": [
             [
              0,
              "#000011"
             ],
             [
              0.1111111111111111,
              "#000012"
             ],
             [
              0.2222222222222222,
              "#000013"
             ],
             [
              0.3333333333333333,
              "#000014"
             ],
             [
              0.4444444444444444,
              "#000015"
             ],
             [
              0.5555555555555556,
              "#000016"
             ],
             [
              0.6666666666666666,
              "#000017"
             ],
             [
              0.7777777777777778,
              "#000018"
             ],
             [
              0.8888888888888888,
              "#000019"
             ],
             [
              1,
              "#000020"
             ]
            ],
            "type": "heatmap"
           }
          ],
          "histogram2d": [
           {
            "colorscale": [
             [
              0,
              "#000011"
             ],
             [
              0.1111111111111111,
              "#000012"
             ],
             [
              0.2222222222222222,
              "#000013"
             ],
             [
              0.3333333333333333,
              "#000014"
             ],
             [
              0.4444444444444444,
              "#000015"
             ],
             [
              0.5555555555555556,
              "#000016"
             ],
             [
              0.6666666666666666,
              "#000017"
             ],
             [
              0.7777777777777778,
              "#000018"
             ],
             [
              0.8888888888888888,
              "#000019"
             ],
             [
              1,
              "#000020"
             ]
            ],
            "type": "histogram2d"
           }
          ],
          "icicle": [
           {
            "textfont": {
             "color": "white"
            },
            "type": "icicle"
           }
          ],
          "sankey": [
           {
            "textfont": {
             "color": "#000036"
            },
            "type": "sankey"
           }
          ],
          "scatter": [
           {
            "marker": {
             "line": {
              "width": 0
             }
            },
            "type": "scatter"
           }
          ],
          "table": [
           {
            "cells": {
             "fill": {
              "color": "#000038"
             },
             "font": {
              "color": "#000037"
             },
             "line": {
              "color": "#000039"
             }
            },
            "header": {
             "fill": {
              "color": "#000040"
             },
             "font": {
              "color": "#000036"
             },
             "line": {
              "color": "#000039"
             }
            },
            "type": "table"
           }
          ],
          "waterfall": [
           {
            "connector": {
             "line": {
              "color": "#000036",
              "width": 2
             }
            },
            "decreasing": {
             "marker": {
              "color": "#000033"
             }
            },
            "increasing": {
             "marker": {
              "color": "#000032"
             }
            },
            "totals": {
             "marker": {
              "color": "#000034"
             }
            },
            "type": "waterfall"
           }
          ]
         },
         "layout": {
          "coloraxis": {
           "colorscale": [
            [
             0,
             "#000011"
            ],
            [
             0.1111111111111111,
             "#000012"
            ],
            [
             0.2222222222222222,
             "#000013"
            ],
            [
             0.3333333333333333,
             "#000014"
            ],
            [
             0.4444444444444444,
             "#000015"
            ],
            [
             0.5555555555555556,
             "#000016"
            ],
            [
             0.6666666666666666,
             "#000017"
            ],
            [
             0.7777777777777778,
             "#000018"
            ],
            [
             0.8888888888888888,
             "#000019"
            ],
            [
             1,
             "#000020"
            ]
           ]
          },
          "colorscale": {
           "diverging": [
            [
             0,
             "#000021"
            ],
            [
             0.1,
             "#000022"
            ],
            [
             0.2,
             "#000023"
            ],
            [
             0.3,
             "#000024"
            ],
            [
             0.4,
             "#000025"
            ],
            [
             0.5,
             "#000026"
            ],
            [
             0.6,
             "#000027"
            ],
            [
             0.7,
             "#000028"
            ],
            [
             0.8,
             "#000029"
            ],
            [
             0.9,
             "#000030"
            ],
            [
             1,
             "#000031"
            ]
           ],
           "sequential": [
            [
             0,
             "#000011"
            ],
            [
             0.1111111111111111,
             "#000012"
            ],
            [
             0.2222222222222222,
             "#000013"
            ],
            [
             0.3333333333333333,
             "#000014"
            ],
            [
             0.4444444444444444,
             "#000015"
            ],
            [
             0.5555555555555556,
             "#000016"
            ],
            [
             0.6666666666666666,
             "#000017"
            ],
            [
             0.7777777777777778,
             "#000018"
            ],
            [
             0.8888888888888888,
             "#000019"
            ],
            [
             1,
             "#000020"
            ]
           ],
           "sequentialminus": [
            [
             0,
             "#000011"
            ],
            [
             0.1111111111111111,
             "#000012"
            ],
            [
             0.2222222222222222,
             "#000013"
            ],
            [
             0.3333333333333333,
             "#000014"
            ],
            [
             0.4444444444444444,
             "#000015"
            ],
            [
             0.5555555555555556,
             "#000016"
            ],
            [
             0.6666666666666666,
             "#000017"
            ],
            [
             0.7777777777777778,
             "#000018"
            ],
            [
             0.8888888888888888,
             "#000019"
            ],
            [
             1,
             "#000020"
            ]
           ]
          },
          "colorway": [
           "#000001",
           "#000002",
           "#000003",
           "#000004",
           "#000005",
           "#000006",
           "#000007",
           "#000008",
           "#000009",
           "#000010"
          ]
         }
        },
        "title": {
         "font": {
          "size": 20
         },
         "text": "Correlação entre Selic e Fed Funds Rate"
        },
        "xaxis": {
         "anchor": "y",
         "constrain": "domain",
         "domain": [
          0,
          1
         ],
         "scaleanchor": "y"
        },
        "yaxis": {
         "anchor": "x",
         "autorange": "reversed",
         "constrain": "domain",
         "domain": [
          0,
          1
         ]
        }
       }
      }
     },
     "metadata": {},
     "output_type": "display_data"
    }
   ],
   "source": [
    "# Criar um heatmap interativo da correlação entre Selic e Fed Funds Rate\n",
    "fig = px.imshow(\n",
    "    df_rates[['Selic', 'Fed_Funds']].corr(),\n",
    "    text_auto=True,\n",
    "    color_continuous_scale=[\"#dbe9f6\", \"#08306b\"],  # Dois tons de azul\n",
    "    title=\"Correlação entre Selic e Fed Funds Rate\"\n",
    ")\n",
    "\n",
    "# Ajustar o layout para aumentar o tamanho da fonte\n",
    "fig.update_layout(\n",
    "    title_font_size=20,  # Tamanho da fonte do título\n",
    "    font=dict(size=14),  # Tamanho da fonte geral\n",
    "    coloraxis_colorbar=dict(title=\"Correlação\", title_font_size=14, tickfont_size=12)  # Fonte da barra de cores\n",
    ")\n",
    "\n",
    "# Exibir o gráfico interativo\n",
    "fig.show()"
   ]
  },
  {
   "cell_type": "markdown",
   "metadata": {},
   "source": [
    "\n",
    "\n",
    "---\n",
    "\n",
    "### **📊 O QUE ESSE GRÁFICO MOSTRA?**\n",
    "1. **Cores e Valores**  \n",
    "   - O quadrado vermelho (1.0) mostra que **Selic tem correlação perfeita com ela mesma** (óbvio).\n",
    "   - O quadrado azul com **0.737** indica que **existe uma correlação positiva forte** entre a **Selic e o Fed Funds Rate**.\n",
    "   - Isso significa que, quando o **Fed Funds Rate sobe**, a **Selic tende a subir também**.\n",
    "\n",
    "2. **Correlação de 0.737**\n",
    "   - Esse valor **não é 1.0**, ou seja, **não é uma relação perfeita**, mas ainda assim é uma **forte correlação positiva**.\n",
    "   - Isso indica que as taxas de juros do Brasil e dos EUA se movem **na mesma direção** na maioria das vezes, mas não sempre.\n",
    "\n",
    "---\n",
    "\n",
    "### **📌 INTERPRETAÇÃO PRÁTICA**\n",
    "- Quando o **Fed aumenta os juros**, isso pode influenciar o Banco Central do Brasil a **também aumentar a Selic**.\n",
    "- Isso acontece porque **juros mais altos nos EUA fazem os investidores retirarem dinheiro do Brasil**, forçando o BC a subir os juros para manter a atratividade do país.\n",
    "- Por outro lado, se os **EUA cortam os juros**, o Brasil pode seguir essa tendência **para estimular o crescimento econômico**.\n",
    "\n"
   ]
  },
  {
   "cell_type": "markdown",
   "metadata": {},
   "source": [
    "---\n",
    "### **📌  O que vamos fazer? - Estatística Por Trás do Grafico📌**\n",
    "1. ✅ Aplicar o Teste de Pearson para verificar se a correlação observada é estatisticamente significativa.\n",
    "\n",
    "**✅ Hipóteses do teste:**\n",
    "- H₀ (Hipótese Nula): Não há correlação significativa entre Selic e Fed Funds Rate.\n",
    "- H₁ (Hipótese Alternativa): Existe uma correlação significativa entre Selic e Fed Funds Rate. ✅ Nível de Significância: 5% (0.05). Se p < 0.05, rejeitamos H₀ e aceitamos que há correlação significativa.\n",
    "\n",
    "---"
   ]
  },
  {
   "cell_type": "code",
   "execution_count": 70,
   "metadata": {},
   "outputs": [
    {
     "name": "stdout",
     "output_type": "stream",
     "text": [
      "Correlação de Pearson: 0.7371\n",
      "Valor-p: 0.000000\n",
      "➡️ O resultado é estatisticamente significativo. Existe uma correlação entre a Selic e o Fed Funds Rate.\n"
     ]
    }
   ],
   "source": [
    "from scipy.stats import pearsonr\n",
    "\n",
    "# Remover valores nulos para evitar erros\n",
    "df_rates.dropna(subset=['Selic', 'Fed_Funds'], inplace=True)\n",
    "\n",
    "# Aplicar o teste de correlação de Pearson\n",
    "correlation, p_value = pearsonr(df_rates['Selic'], df_rates['Fed_Funds'])\n",
    "\n",
    "# Exibir resultados\n",
    "print(f\"Correlação de Pearson: {correlation:.4f}\")\n",
    "print(f\"Valor-p: {p_value:.6f}\")\n",
    "\n",
    "# Interpretar os resultados\n",
    "if p_value < 0.05:\n",
    "    print(\"➡️ O resultado é estatisticamente significativo. Existe uma correlação entre a Selic e o Fed Funds Rate.\")\n",
    "else:\n",
    "    print(\"❌ O resultado NÃO é estatisticamente significativo. Não podemos afirmar que há correlação real entre as taxas.\")\n"
   ]
  },
  {
   "cell_type": "markdown",
   "metadata": {},
   "source": [
    "---\n",
    "### **1️⃣ Intervalo de Confiança para a Correlação**\n",
    " - Queremos calcular um **intervalo de confiança (IC)** de **95%** para a correlação entre **Selic e Fed Funds Rate**.  \n",
    " - Isso nos ajudará a entender a **precisão** da correlação observada.\n",
    "---"
   ]
  },
  {
   "cell_type": "code",
   "execution_count": 71,
   "metadata": {},
   "outputs": [
    {
     "name": "stdout",
     "output_type": "stream",
     "text": [
      "Intervalo de Confiança (95%) da Correlação:\n",
      "[0.6095, 0.8275]\n"
     ]
    }
   ],
   "source": [
    "# Número de observações\n",
    "n = len(df_rates.dropna(subset=['Selic', 'Fed_Funds']))\n",
    "\n",
    "# Correlação e p-valor já calculados antes\n",
    "correlation, _ = pearsonr(df_rates['Selic'], df_rates['Fed_Funds'])\n",
    "\n",
    "# Calcular erro padrão da correlação\n",
    "se = 1 / np.sqrt(n - 3)\n",
    "\n",
    "# Calcular intervalo de confiança de 95%\n",
    "z_score = np.arctanh(correlation)  # Conversão para Z-score\n",
    "z_critical = stats.norm.ppf(0.975)  # Valor crítico para 95%\n",
    "ci_lower = np.tanh(z_score - z_critical * se)\n",
    "ci_upper = np.tanh(z_score + z_critical * se)\n",
    "\n",
    "# Exibir resultados\n",
    "print(f\"Intervalo de Confiança (95%) da Correlação:\")\n",
    "print(f\"[{ci_lower:.4f}, {ci_upper:.4f}]\")"
   ]
  },
  {
   "cell_type": "markdown",
   "metadata": {},
   "source": [
    "---\n",
    "### **📊 Interpretação**\n",
    " - Como o intervalo não inclui 0, podemos concluir que a correlação é estatisticamente significativa.\n",
    " - O intervalo é relativamente estreito, indicando boa precisão na estimativa da correlação.\n",
    " - A correlação é positiva e forte (entre 0.61 e 0.83), sugerindo que quando o Fed Funds Rate sobe, a Selic tende a acompanhar.\n",
    " ---"
   ]
  },
  {
   "cell_type": "markdown",
   "metadata": {},
   "source": [
    "---\n",
    "\n",
    "## 📊 **Distribuição Anual da Selic (Boxplot)**\n",
    "\n",
    "1. \n",
    "   - Cada caixa representa a **distribuição da taxa Selic** ao longo de cada ano.  \n",
    "   - As caixas mostram o comportamento da taxa ao longo do tempo: valores mínimos, máximos, mediana e dispersão.\n",
    "---"
   ]
  },
  {
   "cell_type": "code",
   "execution_count": 72,
   "metadata": {},
   "outputs": [],
   "source": [
    "# ==========================\n",
    "# 1️⃣  PREPARAÇÃO DOS DADOS\n",
    "# ==========================\n",
    "# Criar coluna com o ano para segmentação\n",
    "df_rates['Ano'] = df_rates['Date'].dt.year\n",
    "\n",
    "# Filtrar dados para garantir que só temos anos completos\n",
    "anos_disponiveis = df_rates['Ano'].unique()\n",
    "grupos_selic = [df_rates[df_rates['Ano'] == ano]['Selic'].dropna() for ano in anos_disponiveis]\n",
    "\n",
    "# ==========================\n",
    "# 2️⃣  TESTE ANOVA\n",
    "# ==========================\n",
    "stat, p_value = f_oneway(*grupos_selic)"
   ]
  },
  {
   "cell_type": "code",
   "execution_count": 73,
   "metadata": {},
   "outputs": [
    {
     "name": "stdout",
     "output_type": "stream",
     "text": [
      "F-Estatística: 149.5436\n",
      "Valor-p: 0.0000\n",
      "Conclusão: A diferença entre os anos é estatisticamente significativa. Ou seja, a Selic variou de forma relevante ao longo dos anos.\n"
     ]
    },
    {
     "data": {
      "application/vnd.plotly.v1+json": {
       "config": {
        "plotlyServerURL": "https://plot.ly"
       },
       "data": [
        {
         "alignmentgroup": "True",
         "hovertemplate": "Ano=%{x}<br>Selic=%{y}<extra></extra>",
         "legendgroup": "",
         "marker": {
          "color": "#000001"
         },
         "name": "",
         "notched": false,
         "offsetgroup": "",
         "orientation": "v",
         "showlegend": false,
         "type": "box",
         "x": [
          2019,
          2019,
          2019,
          2019,
          2019,
          2019,
          2019,
          2019,
          2019,
          2019,
          2019,
          2019,
          2020,
          2020,
          2020,
          2020,
          2020,
          2020,
          2020,
          2020,
          2020,
          2020,
          2020,
          2020,
          2021,
          2021,
          2021,
          2021,
          2021,
          2021,
          2021,
          2021,
          2021,
          2021,
          2021,
          2021,
          2022,
          2022,
          2022,
          2022,
          2022,
          2022,
          2022,
          2022,
          2022,
          2022,
          2022,
          2022,
          2023,
          2023,
          2023,
          2023,
          2023,
          2023,
          2023,
          2023,
          2023,
          2023,
          2023,
          2023,
          2024,
          2024,
          2024,
          2024,
          2024,
          2024,
          2024,
          2024,
          2024,
          2024,
          2024,
          2024
         ],
         "x0": " ",
         "xaxis": "x",
         "y": [
          6.4,
          6.4,
          6.4,
          6.4,
          6.4,
          6.4,
          6.4,
          5.9,
          5.71,
          5.38,
          4.9,
          4.59,
          4.4,
          4.19,
          3.95,
          3.65,
          3.01,
          2.58,
          2.15,
          1.94,
          1.9,
          1.9,
          1.9,
          1.9,
          1.9,
          1.9,
          2.23,
          2.65,
          3.29,
          3.76,
          4.15,
          5.01,
          5.43,
          6.3,
          7.65,
          8.76,
          9.15,
          10.49,
          11.15,
          11.65,
          12.51,
          12.89,
          13.15,
          13.58,
          13.65,
          13.65,
          13.65,
          13.65,
          13.65,
          13.65,
          13.65,
          13.65,
          13.65,
          13.65,
          13.65,
          13.19,
          12.97,
          12.65,
          12.17,
          11.87,
          11.65,
          11.15,
          11,
          10.65,
          10.46,
          10.4,
          10.4,
          10.4,
          10.5,
          10.65,
          11.04,
          11.77
         ],
         "y0": " ",
         "yaxis": "y"
        }
       ],
       "layout": {
        "boxmode": "group",
        "height": 800,
        "legend": {
         "tracegroupgap": 0
        },
        "margin": {
         "b": 40,
         "l": 40,
         "r": 40,
         "t": 60
        },
        "template": {
         "data": {
          "candlestick": [
           {
            "decreasing": {
             "line": {
              "color": "#000033"
             }
            },
            "increasing": {
             "line": {
              "color": "#000032"
             }
            },
            "type": "candlestick"
           }
          ],
          "contour": [
           {
            "colorscale": [
             [
              0,
              "#000011"
             ],
             [
              0.1111111111111111,
              "#000012"
             ],
             [
              0.2222222222222222,
              "#000013"
             ],
             [
              0.3333333333333333,
              "#000014"
             ],
             [
              0.4444444444444444,
              "#000015"
             ],
             [
              0.5555555555555556,
              "#000016"
             ],
             [
              0.6666666666666666,
              "#000017"
             ],
             [
              0.7777777777777778,
              "#000018"
             ],
             [
              0.8888888888888888,
              "#000019"
             ],
             [
              1,
              "#000020"
             ]
            ],
            "type": "contour"
           }
          ],
          "contourcarpet": [
           {
            "colorscale": [
             [
              0,
              "#000011"
             ],
             [
              0.1111111111111111,
              "#000012"
             ],
             [
              0.2222222222222222,
              "#000013"
             ],
             [
              0.3333333333333333,
              "#000014"
             ],
             [
              0.4444444444444444,
              "#000015"
             ],
             [
              0.5555555555555556,
              "#000016"
             ],
             [
              0.6666666666666666,
              "#000017"
             ],
             [
              0.7777777777777778,
              "#000018"
             ],
             [
              0.8888888888888888,
              "#000019"
             ],
             [
              1,
              "#000020"
             ]
            ],
            "type": "contourcarpet"
           }
          ],
          "heatmap": [
           {
            "colorscale": [
             [
              0,
              "#000011"
             ],
             [
              0.1111111111111111,
              "#000012"
             ],
             [
              0.2222222222222222,
              "#000013"
             ],
             [
              0.3333333333333333,
              "#000014"
             ],
             [
              0.4444444444444444,
              "#000015"
             ],
             [
              0.5555555555555556,
              "#000016"
             ],
             [
              0.6666666666666666,
              "#000017"
             ],
             [
              0.7777777777777778,
              "#000018"
             ],
             [
              0.8888888888888888,
              "#000019"
             ],
             [
              1,
              "#000020"
             ]
            ],
            "type": "heatmap"
           }
          ],
          "histogram2d": [
           {
            "colorscale": [
             [
              0,
              "#000011"
             ],
             [
              0.1111111111111111,
              "#000012"
             ],
             [
              0.2222222222222222,
              "#000013"
             ],
             [
              0.3333333333333333,
              "#000014"
             ],
             [
              0.4444444444444444,
              "#000015"
             ],
             [
              0.5555555555555556,
              "#000016"
             ],
             [
              0.6666666666666666,
              "#000017"
             ],
             [
              0.7777777777777778,
              "#000018"
             ],
             [
              0.8888888888888888,
              "#000019"
             ],
             [
              1,
              "#000020"
             ]
            ],
            "type": "histogram2d"
           }
          ],
          "icicle": [
           {
            "textfont": {
             "color": "white"
            },
            "type": "icicle"
           }
          ],
          "sankey": [
           {
            "textfont": {
             "color": "#000036"
            },
            "type": "sankey"
           }
          ],
          "scatter": [
           {
            "marker": {
             "line": {
              "width": 0
             }
            },
            "type": "scatter"
           }
          ],
          "table": [
           {
            "cells": {
             "fill": {
              "color": "#000038"
             },
             "font": {
              "color": "#000037"
             },
             "line": {
              "color": "#000039"
             }
            },
            "header": {
             "fill": {
              "color": "#000040"
             },
             "font": {
              "color": "#000036"
             },
             "line": {
              "color": "#000039"
             }
            },
            "type": "table"
           }
          ],
          "waterfall": [
           {
            "connector": {
             "line": {
              "color": "#000036",
              "width": 2
             }
            },
            "decreasing": {
             "marker": {
              "color": "#000033"
             }
            },
            "increasing": {
             "marker": {
              "color": "#000032"
             }
            },
            "totals": {
             "marker": {
              "color": "#000034"
             }
            },
            "type": "waterfall"
           }
          ]
         },
         "layout": {
          "coloraxis": {
           "colorscale": [
            [
             0,
             "#000011"
            ],
            [
             0.1111111111111111,
             "#000012"
            ],
            [
             0.2222222222222222,
             "#000013"
            ],
            [
             0.3333333333333333,
             "#000014"
            ],
            [
             0.4444444444444444,
             "#000015"
            ],
            [
             0.5555555555555556,
             "#000016"
            ],
            [
             0.6666666666666666,
             "#000017"
            ],
            [
             0.7777777777777778,
             "#000018"
            ],
            [
             0.8888888888888888,
             "#000019"
            ],
            [
             1,
             "#000020"
            ]
           ]
          },
          "colorscale": {
           "diverging": [
            [
             0,
             "#000021"
            ],
            [
             0.1,
             "#000022"
            ],
            [
             0.2,
             "#000023"
            ],
            [
             0.3,
             "#000024"
            ],
            [
             0.4,
             "#000025"
            ],
            [
             0.5,
             "#000026"
            ],
            [
             0.6,
             "#000027"
            ],
            [
             0.7,
             "#000028"
            ],
            [
             0.8,
             "#000029"
            ],
            [
             0.9,
             "#000030"
            ],
            [
             1,
             "#000031"
            ]
           ],
           "sequential": [
            [
             0,
             "#000011"
            ],
            [
             0.1111111111111111,
             "#000012"
            ],
            [
             0.2222222222222222,
             "#000013"
            ],
            [
             0.3333333333333333,
             "#000014"
            ],
            [
             0.4444444444444444,
             "#000015"
            ],
            [
             0.5555555555555556,
             "#000016"
            ],
            [
             0.6666666666666666,
             "#000017"
            ],
            [
             0.7777777777777778,
             "#000018"
            ],
            [
             0.8888888888888888,
             "#000019"
            ],
            [
             1,
             "#000020"
            ]
           ],
           "sequentialminus": [
            [
             0,
             "#000011"
            ],
            [
             0.1111111111111111,
             "#000012"
            ],
            [
             0.2222222222222222,
             "#000013"
            ],
            [
             0.3333333333333333,
             "#000014"
            ],
            [
             0.4444444444444444,
             "#000015"
            ],
            [
             0.5555555555555556,
             "#000016"
            ],
            [
             0.6666666666666666,
             "#000017"
            ],
            [
             0.7777777777777778,
             "#000018"
            ],
            [
             0.8888888888888888,
             "#000019"
            ],
            [
             1,
             "#000020"
            ]
           ]
          },
          "colorway": [
           "#000001",
           "#000002",
           "#000003",
           "#000004",
           "#000005",
           "#000006",
           "#000007",
           "#000008",
           "#000009",
           "#000010"
          ]
         }
        },
        "title": {
         "text": "Distribuição da Selic ao longo dos anos"
        },
        "width": 1900,
        "xaxis": {
         "anchor": "y",
         "domain": [
          0,
          1
         ],
         "title": {
          "text": "Ano"
         }
        },
        "yaxis": {
         "anchor": "x",
         "domain": [
          0,
          1
         ],
         "title": {
          "text": "Selic"
         }
        }
       }
      }
     },
     "metadata": {},
     "output_type": "display_data"
    }
   ],
   "source": [
    "# ==========================\n",
    "# 3️⃣  INTERPRETAÇÃO AUTOMÁTICA\n",
    "# ==========================\n",
    "significancia = 0.05\n",
    "if p_value < significancia:\n",
    "    resultado = \"A diferença entre os anos é estatisticamente significativa. Ou seja, a Selic variou de forma relevante ao longo dos anos.\"\n",
    "else:\n",
    "    resultado = \"Não há evidências estatísticas suficientes para afirmar que houve mudanças significativas na Selic entre os anos.\"\n",
    "\n",
    "# ==========================\n",
    "# 4️⃣  VISUALIZAÇÃO INTERATIVA (com ajuste de proporção)\n",
    "# ==========================\n",
    "fig = px.box(df_rates, x='Ano', y='Selic', title='Distribuição da Selic ao longo dos anos')\n",
    "\n",
    "# Ajustar proporções do gráfico para evitar que fique muito retangular\n",
    "fig.update_layout(\n",
    "    width=1900,  # Largura ajustada\n",
    "    height=800,  # Altura reduzida para melhor proporção\n",
    "    margin=dict(l=40, r=40, t=60, b=40)  # Margens ajustadas\n",
    ")\n",
    "\n",
    "# ==========================\n",
    "# 5️⃣  EXIBIR RESULTADOS\n",
    "# ==========================\n",
    "print(f\"F-Estatística: {stat:.4f}\")\n",
    "print(f\"Valor-p: {p_value:.4f}\")\n",
    "print(f\"Conclusão: {resultado}\")\n",
    "\n",
    "fig.show()\n",
    "\n"
   ]
  },
  {
   "cell_type": "markdown",
   "metadata": {},
   "source": [
    "---\n",
    "\n",
    "## 🧪 INTERPRETAÇÃO ESTATÍSTICA (ANOVA)\n",
    "\n",
    "Aplicamos um **Teste ANOVA** para verificar se as variações na taxa Selic entre os anos são **estatisticamente significativas**.\n",
    "\n",
    "### ✔️ Resultado do Teste:\n",
    "- **F-Estatística**: `149.5436`\n",
    "- **Valor-p**: `0.0000`  \n",
    "  ✅ *Significativo ao nível de 5% (p < 0.05)*\n",
    "\n",
    "### 🔎 Conclusão:\n",
    "> A diferença entre os anos é estatisticamente significativa.  \n",
    "> Ou seja, a **Selic variou de forma relevante ao longo dos anos**, e essa mudança **não é fruto do acaso**.\n",
    "\n",
    "---\n",
    "\n",
    "## 🧠 INTERPRETAÇÃO PRÁTICA\n",
    "\n",
    "- A Selic passou por **momentos de forte queda** (2020–2021) para estimular a economia na pandemia.  \n",
    "- Posteriormente, teve uma **alta expressiva** (2022 em diante) para conter a inflação.  \n",
    "- Essa variação impacta diretamente **o custo do crédito, o investimento em renda fixa, o câmbio e o desempenho da Bolsa**.\n",
    "\n",
    "##  **Evidência Visual de Variação**\n",
    "   - É possível notar visualmente que a Selic teve **comportamentos distintos** em diferentes anos.  \n",
    "   - Por exemplo, em **2020 e 2021**, a taxa esteve notavelmente mais baixa e volátil.  \n",
    "   - Em **2022 e 2023**, observamos uma forte elevação da taxa.\n",
    "---\n"
   ]
  },
  {
   "cell_type": "markdown",
   "metadata": {},
   "source": [
    "🔁 Relacionar a variação da Selic com o retorno médio das ações industriais."
   ]
  },
  {
   "cell_type": "code",
   "execution_count": 74,
   "metadata": {},
   "outputs": [],
   "source": [
    "# Garantir que a coluna 'Date' esteja em formato datetime\n",
    "df_rates['Date'] = pd.to_datetime(df_rates['Date'])\n",
    "\n",
    "# Calcular a variação percentual da Selic mês a mês\n",
    "df_rates['Variação_Selic'] = df_rates['Selic'].pct_change() * 100\n"
   ]
  },
  {
   "cell_type": "code",
   "execution_count": 80,
   "metadata": {},
   "outputs": [
    {
     "data": {
      "application/vnd.plotly.v1+json": {
       "config": {
        "plotlyServerURL": "https://plot.ly"
       },
       "data": [
        {
         "alignmentgroup": "True",
         "hovertemplate": "Ticker=%{x}<br>Correlação_Selic=%{marker.color}<br>Ranking=%{text}<extra></extra>",
         "legendgroup": "",
         "marker": {
          "color": [
           0.15126854876727994,
           0.14517245601764353,
           0.08311257181292689,
           0.08065409965819063,
           0.05126454179583625,
           0.03721846693871629,
           0.013352609471432039,
           0.002412755440869271,
           -0.03234943030953594,
           -0.07356078361614647,
           -0.07738383280223135,
           -0.09580831793851873,
           -0.13156479474595958,
           -0.19156696571976053,
           -0.2858456651716005
          ],
          "coloraxis": "coloraxis",
          "pattern": {
           "shape": ""
          }
         },
         "name": "",
         "offsetgroup": "",
         "orientation": "v",
         "showlegend": false,
         "text": [
          1,
          2,
          3,
          4,
          5,
          6,
          7,
          8,
          9,
          10,
          11,
          12,
          13,
          14,
          15
         ],
         "textposition": "outside",
         "type": "bar",
         "x": [
          "LOGN3.SA",
          "SHUL4.SA",
          "KEPL3.SA",
          "GOLL4.SA",
          "RAIL3.SA",
          "VLID3.SA",
          "TASA3.SA",
          "TUPY3.SA",
          "EMBR3.SA",
          "AZUL4.SA",
          "JSLG3.SA",
          "RAPT4.SA",
          "POMO4.SA",
          "ROMI3.SA",
          "WEGE3.SA"
         ],
         "xaxis": "x",
         "y": [
          0.15126854876727994,
          0.14517245601764353,
          0.08311257181292689,
          0.08065409965819063,
          0.05126454179583625,
          0.03721846693871629,
          0.013352609471432039,
          0.002412755440869271,
          -0.03234943030953594,
          -0.07356078361614647,
          -0.07738383280223135,
          -0.09580831793851873,
          -0.13156479474595958,
          -0.19156696571976053,
          -0.2858456651716005
         ],
         "yaxis": "y"
        }
       ],
       "layout": {
        "barmode": "relative",
        "coloraxis": {
         "colorbar": {
          "title": {
           "text": "Correlação_Selic"
          }
         },
         "colorscale": [
          [
           0,
           "rgb(103,0,31)"
          ],
          [
           0.1,
           "rgb(178,24,43)"
          ],
          [
           0.2,
           "rgb(214,96,77)"
          ],
          [
           0.3,
           "rgb(244,165,130)"
          ],
          [
           0.4,
           "rgb(253,219,199)"
          ],
          [
           0.5,
           "rgb(247,247,247)"
          ],
          [
           0.6,
           "rgb(209,229,240)"
          ],
          [
           0.7,
           "rgb(146,197,222)"
          ],
          [
           0.8,
           "rgb(67,147,195)"
          ],
          [
           0.9,
           "rgb(33,102,172)"
          ],
          [
           1,
           "rgb(5,48,97)"
          ]
         ]
        },
        "height": 900,
        "legend": {
         "tracegroupgap": 0
        },
        "template": {
         "data": {
          "candlestick": [
           {
            "decreasing": {
             "line": {
              "color": "#000033"
             }
            },
            "increasing": {
             "line": {
              "color": "#000032"
             }
            },
            "type": "candlestick"
           }
          ],
          "contour": [
           {
            "colorscale": [
             [
              0,
              "#000011"
             ],
             [
              0.1111111111111111,
              "#000012"
             ],
             [
              0.2222222222222222,
              "#000013"
             ],
             [
              0.3333333333333333,
              "#000014"
             ],
             [
              0.4444444444444444,
              "#000015"
             ],
             [
              0.5555555555555556,
              "#000016"
             ],
             [
              0.6666666666666666,
              "#000017"
             ],
             [
              0.7777777777777778,
              "#000018"
             ],
             [
              0.8888888888888888,
              "#000019"
             ],
             [
              1,
              "#000020"
             ]
            ],
            "type": "contour"
           }
          ],
          "contourcarpet": [
           {
            "colorscale": [
             [
              0,
              "#000011"
             ],
             [
              0.1111111111111111,
              "#000012"
             ],
             [
              0.2222222222222222,
              "#000013"
             ],
             [
              0.3333333333333333,
              "#000014"
             ],
             [
              0.4444444444444444,
              "#000015"
             ],
             [
              0.5555555555555556,
              "#000016"
             ],
             [
              0.6666666666666666,
              "#000017"
             ],
             [
              0.7777777777777778,
              "#000018"
             ],
             [
              0.8888888888888888,
              "#000019"
             ],
             [
              1,
              "#000020"
             ]
            ],
            "type": "contourcarpet"
           }
          ],
          "heatmap": [
           {
            "colorscale": [
             [
              0,
              "#000011"
             ],
             [
              0.1111111111111111,
              "#000012"
             ],
             [
              0.2222222222222222,
              "#000013"
             ],
             [
              0.3333333333333333,
              "#000014"
             ],
             [
              0.4444444444444444,
              "#000015"
             ],
             [
              0.5555555555555556,
              "#000016"
             ],
             [
              0.6666666666666666,
              "#000017"
             ],
             [
              0.7777777777777778,
              "#000018"
             ],
             [
              0.8888888888888888,
              "#000019"
             ],
             [
              1,
              "#000020"
             ]
            ],
            "type": "heatmap"
           }
          ],
          "histogram2d": [
           {
            "colorscale": [
             [
              0,
              "#000011"
             ],
             [
              0.1111111111111111,
              "#000012"
             ],
             [
              0.2222222222222222,
              "#000013"
             ],
             [
              0.3333333333333333,
              "#000014"
             ],
             [
              0.4444444444444444,
              "#000015"
             ],
             [
              0.5555555555555556,
              "#000016"
             ],
             [
              0.6666666666666666,
              "#000017"
             ],
             [
              0.7777777777777778,
              "#000018"
             ],
             [
              0.8888888888888888,
              "#000019"
             ],
             [
              1,
              "#000020"
             ]
            ],
            "type": "histogram2d"
           }
          ],
          "icicle": [
           {
            "textfont": {
             "color": "white"
            },
            "type": "icicle"
           }
          ],
          "sankey": [
           {
            "textfont": {
             "color": "#000036"
            },
            "type": "sankey"
           }
          ],
          "scatter": [
           {
            "marker": {
             "line": {
              "width": 0
             }
            },
            "type": "scatter"
           }
          ],
          "table": [
           {
            "cells": {
             "fill": {
              "color": "#000038"
             },
             "font": {
              "color": "#000037"
             },
             "line": {
              "color": "#000039"
             }
            },
            "header": {
             "fill": {
              "color": "#000040"
             },
             "font": {
              "color": "#000036"
             },
             "line": {
              "color": "#000039"
             }
            },
            "type": "table"
           }
          ],
          "waterfall": [
           {
            "connector": {
             "line": {
              "color": "#000036",
              "width": 2
             }
            },
            "decreasing": {
             "marker": {
              "color": "#000033"
             }
            },
            "increasing": {
             "marker": {
              "color": "#000032"
             }
            },
            "totals": {
             "marker": {
              "color": "#000034"
             }
            },
            "type": "waterfall"
           }
          ]
         },
         "layout": {
          "coloraxis": {
           "colorscale": [
            [
             0,
             "#000011"
            ],
            [
             0.1111111111111111,
             "#000012"
            ],
            [
             0.2222222222222222,
             "#000013"
            ],
            [
             0.3333333333333333,
             "#000014"
            ],
            [
             0.4444444444444444,
             "#000015"
            ],
            [
             0.5555555555555556,
             "#000016"
            ],
            [
             0.6666666666666666,
             "#000017"
            ],
            [
             0.7777777777777778,
             "#000018"
            ],
            [
             0.8888888888888888,
             "#000019"
            ],
            [
             1,
             "#000020"
            ]
           ]
          },
          "colorscale": {
           "diverging": [
            [
             0,
             "#000021"
            ],
            [
             0.1,
             "#000022"
            ],
            [
             0.2,
             "#000023"
            ],
            [
             0.3,
             "#000024"
            ],
            [
             0.4,
             "#000025"
            ],
            [
             0.5,
             "#000026"
            ],
            [
             0.6,
             "#000027"
            ],
            [
             0.7,
             "#000028"
            ],
            [
             0.8,
             "#000029"
            ],
            [
             0.9,
             "#000030"
            ],
            [
             1,
             "#000031"
            ]
           ],
           "sequential": [
            [
             0,
             "#000011"
            ],
            [
             0.1111111111111111,
             "#000012"
            ],
            [
             0.2222222222222222,
             "#000013"
            ],
            [
             0.3333333333333333,
             "#000014"
            ],
            [
             0.4444444444444444,
             "#000015"
            ],
            [
             0.5555555555555556,
             "#000016"
            ],
            [
             0.6666666666666666,
             "#000017"
            ],
            [
             0.7777777777777778,
             "#000018"
            ],
            [
             0.8888888888888888,
             "#000019"
            ],
            [
             1,
             "#000020"
            ]
           ],
           "sequentialminus": [
            [
             0,
             "#000011"
            ],
            [
             0.1111111111111111,
             "#000012"
            ],
            [
             0.2222222222222222,
             "#000013"
            ],
            [
             0.3333333333333333,
             "#000014"
            ],
            [
             0.4444444444444444,
             "#000015"
            ],
            [
             0.5555555555555556,
             "#000016"
            ],
            [
             0.6666666666666666,
             "#000017"
            ],
            [
             0.7777777777777778,
             "#000018"
            ],
            [
             0.8888888888888888,
             "#000019"
            ],
            [
             1,
             "#000020"
            ]
           ]
          },
          "colorway": [
           "#000001",
           "#000002",
           "#000003",
           "#000004",
           "#000005",
           "#000006",
           "#000007",
           "#000008",
           "#000009",
           "#000010"
          ]
         }
        },
        "title": {
         "text": "Ranking de Correlação com a Variação da Selic (%)"
        },
        "width": 1900,
        "xaxis": {
         "anchor": "y",
         "domain": [
          0,
          1
         ],
         "title": {
          "text": "Ticker"
         }
        },
        "yaxis": {
         "anchor": "x",
         "domain": [
          0,
          1
         ],
         "title": {
          "text": "Correlação_Selic"
         }
        }
       }
      }
     },
     "metadata": {},
     "output_type": "display_data"
    },
    {
     "data": {
      "text/html": [
       "<div>\n",
       "<style scoped>\n",
       "    .dataframe tbody tr th:only-of-type {\n",
       "        vertical-align: middle;\n",
       "    }\n",
       "\n",
       "    .dataframe tbody tr th {\n",
       "        vertical-align: top;\n",
       "    }\n",
       "\n",
       "    .dataframe thead th {\n",
       "        text-align: right;\n",
       "    }\n",
       "</style>\n",
       "<table border=\"1\" class=\"dataframe\">\n",
       "  <thead>\n",
       "    <tr style=\"text-align: right;\">\n",
       "      <th></th>\n",
       "      <th>Ticker</th>\n",
       "      <th>Correlação_Selic</th>\n",
       "      <th>Ranking</th>\n",
       "    </tr>\n",
       "  </thead>\n",
       "  <tbody>\n",
       "    <tr>\n",
       "      <th>0</th>\n",
       "      <td>LOGN3.SA</td>\n",
       "      <td>0.151269</td>\n",
       "      <td>1</td>\n",
       "    </tr>\n",
       "    <tr>\n",
       "      <th>1</th>\n",
       "      <td>SHUL4.SA</td>\n",
       "      <td>0.145172</td>\n",
       "      <td>2</td>\n",
       "    </tr>\n",
       "    <tr>\n",
       "      <th>2</th>\n",
       "      <td>KEPL3.SA</td>\n",
       "      <td>0.083113</td>\n",
       "      <td>3</td>\n",
       "    </tr>\n",
       "    <tr>\n",
       "      <th>3</th>\n",
       "      <td>GOLL4.SA</td>\n",
       "      <td>0.080654</td>\n",
       "      <td>4</td>\n",
       "    </tr>\n",
       "    <tr>\n",
       "      <th>4</th>\n",
       "      <td>RAIL3.SA</td>\n",
       "      <td>0.051265</td>\n",
       "      <td>5</td>\n",
       "    </tr>\n",
       "    <tr>\n",
       "      <th>5</th>\n",
       "      <td>VLID3.SA</td>\n",
       "      <td>0.037218</td>\n",
       "      <td>6</td>\n",
       "    </tr>\n",
       "    <tr>\n",
       "      <th>6</th>\n",
       "      <td>TASA3.SA</td>\n",
       "      <td>0.013353</td>\n",
       "      <td>7</td>\n",
       "    </tr>\n",
       "    <tr>\n",
       "      <th>7</th>\n",
       "      <td>TUPY3.SA</td>\n",
       "      <td>0.002413</td>\n",
       "      <td>8</td>\n",
       "    </tr>\n",
       "    <tr>\n",
       "      <th>8</th>\n",
       "      <td>EMBR3.SA</td>\n",
       "      <td>-0.032349</td>\n",
       "      <td>9</td>\n",
       "    </tr>\n",
       "    <tr>\n",
       "      <th>9</th>\n",
       "      <td>AZUL4.SA</td>\n",
       "      <td>-0.073561</td>\n",
       "      <td>10</td>\n",
       "    </tr>\n",
       "    <tr>\n",
       "      <th>10</th>\n",
       "      <td>JSLG3.SA</td>\n",
       "      <td>-0.077384</td>\n",
       "      <td>11</td>\n",
       "    </tr>\n",
       "    <tr>\n",
       "      <th>11</th>\n",
       "      <td>RAPT4.SA</td>\n",
       "      <td>-0.095808</td>\n",
       "      <td>12</td>\n",
       "    </tr>\n",
       "    <tr>\n",
       "      <th>12</th>\n",
       "      <td>POMO4.SA</td>\n",
       "      <td>-0.131565</td>\n",
       "      <td>13</td>\n",
       "    </tr>\n",
       "    <tr>\n",
       "      <th>13</th>\n",
       "      <td>ROMI3.SA</td>\n",
       "      <td>-0.191567</td>\n",
       "      <td>14</td>\n",
       "    </tr>\n",
       "    <tr>\n",
       "      <th>14</th>\n",
       "      <td>WEGE3.SA</td>\n",
       "      <td>-0.285846</td>\n",
       "      <td>15</td>\n",
       "    </tr>\n",
       "  </tbody>\n",
       "</table>\n",
       "</div>"
      ],
      "text/plain": [
       "      Ticker  Correlação_Selic  Ranking\n",
       "0   LOGN3.SA          0.151269        1\n",
       "1   SHUL4.SA          0.145172        2\n",
       "2   KEPL3.SA          0.083113        3\n",
       "3   GOLL4.SA          0.080654        4\n",
       "4   RAIL3.SA          0.051265        5\n",
       "5   VLID3.SA          0.037218        6\n",
       "6   TASA3.SA          0.013353        7\n",
       "7   TUPY3.SA          0.002413        8\n",
       "8   EMBR3.SA         -0.032349        9\n",
       "9   AZUL4.SA         -0.073561       10\n",
       "10  JSLG3.SA         -0.077384       11\n",
       "11  RAPT4.SA         -0.095808       12\n",
       "12  POMO4.SA         -0.131565       13\n",
       "13  ROMI3.SA         -0.191567       14\n",
       "14  WEGE3.SA         -0.285846       15"
      ]
     },
     "execution_count": 80,
     "metadata": {},
     "output_type": "execute_result"
    }
   ],
   "source": [
    "from scipy.stats import pearsonr\n",
    "import plotly.express as px\n",
    "\n",
    "# Calcular retorno mensal das ações (em %)\n",
    "returns = stock_data.set_index('Date').pct_change().dropna() * 100\n",
    "\n",
    "# Calcular variação percentual da Selic\n",
    "df_rates['Variação_Selic'] = df_rates['Selic'].pct_change() * 100\n",
    "selic_var = df_rates[['Date', 'Variação_Selic']].set_index('Date')\n",
    "\n",
    "# Juntar retornos com variação da Selic\n",
    "combined = returns.join(selic_var, how='inner')\n",
    "\n",
    "# Calcular correlação de cada ação com a variação da Selic\n",
    "correlacoes = {}\n",
    "for ticker in returns.columns:\n",
    "    correlacao, _ = pearsonr(combined[ticker], combined['Variação_Selic'])\n",
    "    correlacoes[ticker] = correlacao\n",
    "\n",
    "# Selecionar as 5 ações mais correlacionadas com a Selic\n",
    "top_5_tickers = pd.Series(correlacoes).sort_values(ascending=False).head(15).index.tolist()\n",
    "\n",
    "# Criar DataFrame com preços dessas ações + Selic + Fed Funds\n",
    "df_top5 = stock_data[['Date'] + top_5_tickers].copy()\n",
    "df_taxas = df_rates[['Date', 'Selic', 'Fed_Funds']]\n",
    "df_plot = pd.merge(df_top5, df_taxas, on='Date', how='inner')\n",
    "\n",
    "# Reestruturar para gráfico interativo\n",
    "df_long = df_plot.melt(id_vars='Date', var_name='Variável', value_name='Valor')\n",
    "\n",
    "# Gráfico interativo\n",
    "fig = px.line(df_long, x='Date', y='Valor', color='Variável',\n",
    "              title='Evolução de Preço das Ações mais Correlacionadas com Selic vs Selic e Fed Funds',\n",
    "              labels={'Valor': 'Valor (%)', 'Date': 'Data'})\n",
    "# Criar DataFrame de correlação com ranking\n",
    "df_correlacao = pd.DataFrame.from_dict(correlacoes, orient='index', columns=['Correlação_Selic'])\n",
    "df_correlacao = df_correlacao.sort_values(by='Correlação_Selic', ascending=False).reset_index()\n",
    "df_correlacao.columns = ['Ticker', 'Correlação_Selic']\n",
    "df_correlacao['Ranking'] = df_correlacao['Correlação_Selic'].rank(ascending=False).astype(int)\n",
    "\n",
    "# Visualizar o ranking\n",
    "import plotly.express as px\n",
    "fig_corr = px.bar(df_correlacao, x='Ticker', y='Correlação_Selic',\n",
    "                  title='Ranking de Correlação com a Variação da Selic (%)',\n",
    "                  text='Ranking',\n",
    "                  color='Correlação_Selic',\n",
    "                  color_continuous_scale='RdBu')\n",
    "\n",
    "fig_corr.update_traces(textposition='outside')\n",
    "fig_corr.update_layout(height=900, width=1900)\n",
    "fig_corr.show()\n",
    "\n",
    "# Se quiser apenas o DataFrame tabular também:\n",
    "df_correlacao\n",
    "\n",
    "#fig.update_layout(height=500, width=1000)\n",
    "#fig.show()\n"
   ]
  },
  {
   "cell_type": "code",
   "execution_count": 81,
   "metadata": {},
   "outputs": [
    {
     "data": {
      "application/vnd.plotly.v1+json": {
       "config": {
        "plotlyServerURL": "https://plot.ly"
       },
       "data": [
        {
         "hovertemplate": "Variável=LOGN3.SA<br>Data=%{x}<br>Valor (%)=%{y}<extra></extra>",
         "legendgroup": "LOGN3.SA",
         "line": {
          "color": "#636EFA",
          "dash": "solid"
         },
         "marker": {
          "symbol": "circle"
         },
         "mode": "lines",
         "name": "LOGN3.SA",
         "showlegend": true,
         "type": "scattergl",
         "x": [
          "2019-01-01T00:00:00",
          "2019-02-01T00:00:00",
          "2019-03-01T00:00:00",
          "2019-04-01T00:00:00",
          "2019-05-01T00:00:00",
          "2019-06-01T00:00:00",
          "2019-07-01T00:00:00",
          "2019-08-01T00:00:00",
          "2019-09-01T00:00:00",
          "2019-10-01T00:00:00",
          "2019-11-01T00:00:00",
          "2019-12-01T00:00:00",
          "2020-01-01T00:00:00",
          "2020-02-01T00:00:00",
          "2020-03-01T00:00:00",
          "2020-04-01T00:00:00",
          "2020-05-01T00:00:00",
          "2020-06-01T00:00:00",
          "2020-07-01T00:00:00",
          "2020-08-01T00:00:00",
          "2020-09-01T00:00:00",
          "2020-10-01T00:00:00",
          "2020-11-01T00:00:00",
          "2020-12-01T00:00:00",
          "2021-01-01T00:00:00",
          "2021-02-01T00:00:00",
          "2021-03-01T00:00:00",
          "2021-04-01T00:00:00",
          "2021-05-01T00:00:00",
          "2021-06-01T00:00:00",
          "2021-07-01T00:00:00",
          "2021-08-01T00:00:00",
          "2021-09-01T00:00:00",
          "2021-10-01T00:00:00",
          "2021-11-01T00:00:00",
          "2021-12-01T00:00:00",
          "2022-01-01T00:00:00",
          "2022-02-01T00:00:00",
          "2022-03-01T00:00:00",
          "2022-04-01T00:00:00",
          "2022-05-01T00:00:00",
          "2022-06-01T00:00:00",
          "2022-07-01T00:00:00",
          "2022-08-01T00:00:00",
          "2022-09-01T00:00:00",
          "2022-10-01T00:00:00",
          "2022-11-01T00:00:00",
          "2022-12-01T00:00:00",
          "2023-01-01T00:00:00",
          "2023-02-01T00:00:00",
          "2023-03-01T00:00:00",
          "2023-04-01T00:00:00",
          "2023-05-01T00:00:00",
          "2023-06-01T00:00:00",
          "2023-07-01T00:00:00",
          "2023-08-01T00:00:00",
          "2023-09-01T00:00:00",
          "2023-10-01T00:00:00",
          "2023-11-01T00:00:00",
          "2023-12-01T00:00:00",
          "2024-01-01T00:00:00",
          "2024-02-01T00:00:00",
          "2024-03-01T00:00:00",
          "2024-04-01T00:00:00",
          "2024-05-01T00:00:00",
          "2024-06-01T00:00:00",
          "2024-07-01T00:00:00",
          "2024-08-01T00:00:00",
          "2024-09-01T00:00:00",
          "2024-10-01T00:00:00",
          "2024-11-01T00:00:00",
          "2024-12-01T00:00:00"
         ],
         "xaxis": "x",
         "y": [
          8.199999809265137,
          8.930000305175781,
          8.359999656677246,
          8.100000381469727,
          8.5,
          10.770000457763672,
          15.699999809265137,
          20.399999618530273,
          20.100000381469727,
          22.25,
          17.139999389648438,
          20.899999618530273,
          22.709999084472656,
          19.959999084472656,
          14.260000228881836,
          13.75,
          13.949999809265137,
          14.640000343322754,
          15.859999656677246,
          18.81999969482422,
          14.779999732971191,
          12.779999732971191,
          15.5600004196167,
          16.18000030517578,
          14.609999656677246,
          14.40999984741211,
          15.220000267028809,
          19.899999618530273,
          19.850000381469727,
          18.8700008392334,
          18.049999237060547,
          15.829999923706055,
          22,
          21.200000762939453,
          20.649999618530273,
          23.540000915527344,
          22.18000030517578,
          24.950000762939453,
          28.190000534057617,
          26.3799991607666,
          34.040000915527344,
          30.34000015258789,
          32.5,
          39.16999816894531,
          32.95000076293945,
          37.41999816894531,
          30.65999984741211,
          35.099998474121094,
          36.4900016784668,
          30.540000915527344,
          38.11000061035156,
          38.66999816894531,
          50,
          51.31999969482422,
          50.15999984741211,
          40,
          44,
          40.84000015258789,
          48.040000915527344,
          38.4900016784668,
          37.25,
          37.9900016784668,
          39.040000915527344,
          38.70000076293945,
          35.650001525878906,
          35.75,
          37.41999816894531,
          35.0099983215332,
          34,
          26.43000030517578,
          19.959999084472656,
          20.719999313354492
         ],
         "yaxis": "y"
        },
        {
         "hovertemplate": "Variável=SHUL4.SA<br>Data=%{x}<br>Valor (%)=%{y}<extra></extra>",
         "legendgroup": "SHUL4.SA",
         "line": {
          "color": "#EF553B",
          "dash": "solid"
         },
         "marker": {
          "symbol": "circle"
         },
         "mode": "lines",
         "name": "SHUL4.SA",
         "showlegend": true,
         "type": "scattergl",
         "x": [
          "2019-01-01T00:00:00",
          "2019-02-01T00:00:00",
          "2019-03-01T00:00:00",
          "2019-04-01T00:00:00",
          "2019-05-01T00:00:00",
          "2019-06-01T00:00:00",
          "2019-07-01T00:00:00",
          "2019-08-01T00:00:00",
          "2019-09-01T00:00:00",
          "2019-10-01T00:00:00",
          "2019-11-01T00:00:00",
          "2019-12-01T00:00:00",
          "2020-01-01T00:00:00",
          "2020-02-01T00:00:00",
          "2020-03-01T00:00:00",
          "2020-04-01T00:00:00",
          "2020-05-01T00:00:00",
          "2020-06-01T00:00:00",
          "2020-07-01T00:00:00",
          "2020-08-01T00:00:00",
          "2020-09-01T00:00:00",
          "2020-10-01T00:00:00",
          "2020-11-01T00:00:00",
          "2020-12-01T00:00:00",
          "2021-01-01T00:00:00",
          "2021-02-01T00:00:00",
          "2021-03-01T00:00:00",
          "2021-04-01T00:00:00",
          "2021-05-01T00:00:00",
          "2021-06-01T00:00:00",
          "2021-07-01T00:00:00",
          "2021-08-01T00:00:00",
          "2021-09-01T00:00:00",
          "2021-10-01T00:00:00",
          "2021-11-01T00:00:00",
          "2021-12-01T00:00:00",
          "2022-01-01T00:00:00",
          "2022-02-01T00:00:00",
          "2022-03-01T00:00:00",
          "2022-04-01T00:00:00",
          "2022-05-01T00:00:00",
          "2022-06-01T00:00:00",
          "2022-07-01T00:00:00",
          "2022-08-01T00:00:00",
          "2022-09-01T00:00:00",
          "2022-10-01T00:00:00",
          "2022-11-01T00:00:00",
          "2022-12-01T00:00:00",
          "2023-01-01T00:00:00",
          "2023-02-01T00:00:00",
          "2023-03-01T00:00:00",
          "2023-04-01T00:00:00",
          "2023-05-01T00:00:00",
          "2023-06-01T00:00:00",
          "2023-07-01T00:00:00",
          "2023-08-01T00:00:00",
          "2023-09-01T00:00:00",
          "2023-10-01T00:00:00",
          "2023-11-01T00:00:00",
          "2023-12-01T00:00:00",
          "2024-01-01T00:00:00",
          "2024-02-01T00:00:00",
          "2024-03-01T00:00:00",
          "2024-04-01T00:00:00",
          "2024-05-01T00:00:00",
          "2024-06-01T00:00:00",
          "2024-07-01T00:00:00",
          "2024-08-01T00:00:00",
          "2024-09-01T00:00:00",
          "2024-10-01T00:00:00",
          "2024-11-01T00:00:00",
          "2024-12-01T00:00:00"
         ],
         "xaxis": "x",
         "y": [
          1.3609607219696045,
          1.283959150314331,
          1.3376810550689697,
          1.289331078529358,
          1.3575962781906128,
          1.534511923789978,
          1.6313503980636597,
          1.7002545595169067,
          1.6164519786834717,
          1.6387995481491089,
          1.791589379310608,
          1.9205081462860107,
          2.2371175289154053,
          2.6106019020080566,
          1.37639582157135,
          1.5735656023025513,
          1.9470504522323608,
          2.0361557006835938,
          2.301544189453125,
          2.21559476852417,
          2.349294424057007,
          2.2728943824768066,
          2.389369010925293,
          2.6178014278411865,
          2.6117143630981445,
          2.5123136043548584,
          2.9644908905029297,
          4.280093193054199,
          4.157667636871338,
          4.050243854522705,
          4.136021614074707,
          3.9042444229125977,
          3.6085290908813477,
          3.360731601715088,
          3.5399703979492188,
          3.442138910293579,
          3.4012105464935303,
          3.5362765789031982,
          3.761385917663574,
          3.724550724029541,
          3.8465523719787598,
          3.5956904888153076,
          3.6631228923797607,
          4.10943603515625,
          3.8652267456054688,
          4.1841559410095215,
          4.047529697418213,
          4.021913528442383,
          4.2190165519714355,
          3.9417924880981445,
          3.9471750259399414,
          3.9026248455047607,
          5.286935329437256,
          5.765923500061035,
          6.114944934844971,
          6.77011775970459,
          6.870213985443115,
          6.679121494293213,
          6.442025184631348,
          6.469555854797363,
          6.026978492736816,
          6.508395195007324,
          6.221395969390869,
          5.8190507888793945,
          5.73403263092041,
          5.65846061706543,
          6.072413444519043,
          6.438105583190918,
          5.918437957763672,
          6.172180652618408,
          5.503855228424072,
          5.720078468322754
         ],
         "yaxis": "y"
        },
        {
         "hovertemplate": "Variável=KEPL3.SA<br>Data=%{x}<br>Valor (%)=%{y}<extra></extra>",
         "legendgroup": "KEPL3.SA",
         "line": {
          "color": "#00CC96",
          "dash": "solid"
         },
         "marker": {
          "symbol": "circle"
         },
         "mode": "lines",
         "name": "KEPL3.SA",
         "showlegend": true,
         "type": "scattergl",
         "x": [
          "2019-01-01T00:00:00",
          "2019-02-01T00:00:00",
          "2019-03-01T00:00:00",
          "2019-04-01T00:00:00",
          "2019-05-01T00:00:00",
          "2019-06-01T00:00:00",
          "2019-07-01T00:00:00",
          "2019-08-01T00:00:00",
          "2019-09-01T00:00:00",
          "2019-10-01T00:00:00",
          "2019-11-01T00:00:00",
          "2019-12-01T00:00:00",
          "2020-01-01T00:00:00",
          "2020-02-01T00:00:00",
          "2020-03-01T00:00:00",
          "2020-04-01T00:00:00",
          "2020-05-01T00:00:00",
          "2020-06-01T00:00:00",
          "2020-07-01T00:00:00",
          "2020-08-01T00:00:00",
          "2020-09-01T00:00:00",
          "2020-10-01T00:00:00",
          "2020-11-01T00:00:00",
          "2020-12-01T00:00:00",
          "2021-01-01T00:00:00",
          "2021-02-01T00:00:00",
          "2021-03-01T00:00:00",
          "2021-04-01T00:00:00",
          "2021-05-01T00:00:00",
          "2021-06-01T00:00:00",
          "2021-07-01T00:00:00",
          "2021-08-01T00:00:00",
          "2021-09-01T00:00:00",
          "2021-10-01T00:00:00",
          "2021-11-01T00:00:00",
          "2021-12-01T00:00:00",
          "2022-01-01T00:00:00",
          "2022-02-01T00:00:00",
          "2022-03-01T00:00:00",
          "2022-04-01T00:00:00",
          "2022-05-01T00:00:00",
          "2022-06-01T00:00:00",
          "2022-07-01T00:00:00",
          "2022-08-01T00:00:00",
          "2022-09-01T00:00:00",
          "2022-10-01T00:00:00",
          "2022-11-01T00:00:00",
          "2022-12-01T00:00:00",
          "2023-01-01T00:00:00",
          "2023-02-01T00:00:00",
          "2023-03-01T00:00:00",
          "2023-04-01T00:00:00",
          "2023-05-01T00:00:00",
          "2023-06-01T00:00:00",
          "2023-07-01T00:00:00",
          "2023-08-01T00:00:00",
          "2023-09-01T00:00:00",
          "2023-10-01T00:00:00",
          "2023-11-01T00:00:00",
          "2023-12-01T00:00:00",
          "2024-01-01T00:00:00",
          "2024-02-01T00:00:00",
          "2024-03-01T00:00:00",
          "2024-04-01T00:00:00",
          "2024-05-01T00:00:00",
          "2024-06-01T00:00:00",
          "2024-07-01T00:00:00",
          "2024-08-01T00:00:00",
          "2024-09-01T00:00:00",
          "2024-10-01T00:00:00",
          "2024-11-01T00:00:00",
          "2024-12-01T00:00:00"
         ],
         "xaxis": "x",
         "y": [
          1.550836205482483,
          1.7834614515304565,
          1.788630723953247,
          1.903393030166626,
          1.9436594247817993,
          2.0122594833374023,
          2.146340847015381,
          2.189995527267456,
          2.2419652938842773,
          2.2139015197753906,
          2.291856288909912,
          3.061004638671875,
          3.129176378250122,
          3.023475408554077,
          2.5431103706359863,
          2.8235840797424316,
          3.1710808277130127,
          3.958566188812256,
          4.619208335876465,
          4.749223232269287,
          4.2281084060668945,
          4.108664035797119,
          4.131450653076172,
          4.048353672027588,
          3.958862543106079,
          4.847370624542236,
          4.61618709564209,
          5.384345054626465,
          5.742942810058594,
          6.021018981933594,
          5.934878349304199,
          5.222910404205322,
          4.914209842681885,
          3.8402793407440186,
          4.223097801208496,
          5.2927327156066895,
          5.260278701782227,
          6.931667327880859,
          7.3427534103393555,
          7.825288772583008,
          8.412938117980957,
          5.99811315536499,
          8.380139350891113,
          8.663028717041016,
          8.934859275817871,
          10.808631896972656,
          8.651079177856445,
          8.710820198059082,
          10.009004592895508,
          8.559366226196289,
          7.6722731590271,
          6.563938140869141,
          7.456122875213623,
          8.612322807312012,
          8.548595428466797,
          10.214615821838379,
          10.836058616638184,
          9.900303840637207,
          10.386897087097168,
          10.33411693572998,
          8.963166236877441,
          9.152264595031738,
          9.993741989135742,
          9.180628776550293,
          9.449053764343262,
          9.190044403076172,
          10.149338722229004,
          10.908625602722168,
          9.801141738891602,
          9.98811149597168,
          9.683055877685547,
          9.3100004196167
         ],
         "yaxis": "y"
        },
        {
         "hovertemplate": "Variável=GOLL4.SA<br>Data=%{x}<br>Valor (%)=%{y}<extra></extra>",
         "legendgroup": "GOLL4.SA",
         "line": {
          "color": "#AB63FA",
          "dash": "solid"
         },
         "marker": {
          "symbol": "circle"
         },
         "mode": "lines",
         "name": "GOLL4.SA",
         "showlegend": true,
         "type": "scattergl",
         "x": [
          "2019-01-01T00:00:00",
          "2019-02-01T00:00:00",
          "2019-03-01T00:00:00",
          "2019-04-01T00:00:00",
          "2019-05-01T00:00:00",
          "2019-06-01T00:00:00",
          "2019-07-01T00:00:00",
          "2019-08-01T00:00:00",
          "2019-09-01T00:00:00",
          "2019-10-01T00:00:00",
          "2019-11-01T00:00:00",
          "2019-12-01T00:00:00",
          "2020-01-01T00:00:00",
          "2020-02-01T00:00:00",
          "2020-03-01T00:00:00",
          "2020-04-01T00:00:00",
          "2020-05-01T00:00:00",
          "2020-06-01T00:00:00",
          "2020-07-01T00:00:00",
          "2020-08-01T00:00:00",
          "2020-09-01T00:00:00",
          "2020-10-01T00:00:00",
          "2020-11-01T00:00:00",
          "2020-12-01T00:00:00",
          "2021-01-01T00:00:00",
          "2021-02-01T00:00:00",
          "2021-03-01T00:00:00",
          "2021-04-01T00:00:00",
          "2021-05-01T00:00:00",
          "2021-06-01T00:00:00",
          "2021-07-01T00:00:00",
          "2021-08-01T00:00:00",
          "2021-09-01T00:00:00",
          "2021-10-01T00:00:00",
          "2021-11-01T00:00:00",
          "2021-12-01T00:00:00",
          "2022-01-01T00:00:00",
          "2022-02-01T00:00:00",
          "2022-03-01T00:00:00",
          "2022-04-01T00:00:00",
          "2022-05-01T00:00:00",
          "2022-06-01T00:00:00",
          "2022-07-01T00:00:00",
          "2022-08-01T00:00:00",
          "2022-09-01T00:00:00",
          "2022-10-01T00:00:00",
          "2022-11-01T00:00:00",
          "2022-12-01T00:00:00",
          "2023-01-01T00:00:00",
          "2023-02-01T00:00:00",
          "2023-03-01T00:00:00",
          "2023-04-01T00:00:00",
          "2023-05-01T00:00:00",
          "2023-06-01T00:00:00",
          "2023-07-01T00:00:00",
          "2023-08-01T00:00:00",
          "2023-09-01T00:00:00",
          "2023-10-01T00:00:00",
          "2023-11-01T00:00:00",
          "2023-12-01T00:00:00",
          "2024-01-01T00:00:00",
          "2024-02-01T00:00:00",
          "2024-03-01T00:00:00",
          "2024-04-01T00:00:00",
          "2024-05-01T00:00:00",
          "2024-06-01T00:00:00",
          "2024-07-01T00:00:00",
          "2024-08-01T00:00:00",
          "2024-09-01T00:00:00",
          "2024-10-01T00:00:00",
          "2024-11-01T00:00:00",
          "2024-12-01T00:00:00"
         ],
         "xaxis": "x",
         "y": [
          24.719999313354492,
          26.65999984741211,
          25.899999618530273,
          22.780000686645508,
          26.979999542236328,
          32.599998474121094,
          40.970001220703125,
          33.20000076293945,
          32.29999923706055,
          36.599998474121094,
          34.060001373291016,
          36.79999923706055,
          34.25,
          25.600000381469727,
          11.369999885559082,
          12.399999618530273,
          12.029999732971191,
          18.549999237060547,
          17.90999984741211,
          17.889999389648438,
          17.079999923706055,
          15.6899995803833,
          23.520000457763672,
          24.940000534057617,
          23.950000762939453,
          21.6299991607666,
          21.510000228881836,
          23.450000762939453,
          26.809999465942383,
          22.959999084472656,
          20.600000381469727,
          19.959999084472656,
          20.709999084472656,
          15.180000305175781,
          16,
          17.030000686645508,
          18.290000915527344,
          17.280000686645508,
          17.200000762939453,
          15.210000038146973,
          14.510000228881836,
          9.069999694824219,
          8.359999656677246,
          10.100000381469727,
          8.930000305175781,
          9.609999656677246,
          8.3100004196167,
          7.340000152587891,
          7.659999847412109,
          5.53000020980835,
          6.679999828338623,
          6.639999866485596,
          8.319999694824219,
          13.170000076293945,
          9.630000114440918,
          7.03000020980835,
          6.610000133514404,
          8.550000190734863,
          9.079999923706055,
          8.970000267028809,
          2.8299999237060547,
          2.5399999618530273,
          1.6799999475479126,
          1.3200000524520874,
          1.1100000143051147,
          1.0299999713897705,
          1.1399999856948853,
          1.0800000429153442,
          1.100000023841858,
          1.1100000143051147,
          1.340000033378601,
          1.2999999523162842
         ],
         "yaxis": "y"
        },
        {
         "hovertemplate": "Variável=RAIL3.SA<br>Data=%{x}<br>Valor (%)=%{y}<extra></extra>",
         "legendgroup": "RAIL3.SA",
         "line": {
          "color": "#FFA15A",
          "dash": "solid"
         },
         "marker": {
          "symbol": "circle"
         },
         "mode": "lines",
         "name": "RAIL3.SA",
         "showlegend": true,
         "type": "scattergl",
         "x": [
          "2019-01-01T00:00:00",
          "2019-02-01T00:00:00",
          "2019-03-01T00:00:00",
          "2019-04-01T00:00:00",
          "2019-05-01T00:00:00",
          "2019-06-01T00:00:00",
          "2019-07-01T00:00:00",
          "2019-08-01T00:00:00",
          "2019-09-01T00:00:00",
          "2019-10-01T00:00:00",
          "2019-11-01T00:00:00",
          "2019-12-01T00:00:00",
          "2020-01-01T00:00:00",
          "2020-02-01T00:00:00",
          "2020-03-01T00:00:00",
          "2020-04-01T00:00:00",
          "2020-05-01T00:00:00",
          "2020-06-01T00:00:00",
          "2020-07-01T00:00:00",
          "2020-08-01T00:00:00",
          "2020-09-01T00:00:00",
          "2020-10-01T00:00:00",
          "2020-11-01T00:00:00",
          "2020-12-01T00:00:00",
          "2021-01-01T00:00:00",
          "2021-02-01T00:00:00",
          "2021-03-01T00:00:00",
          "2021-04-01T00:00:00",
          "2021-05-01T00:00:00",
          "2021-06-01T00:00:00",
          "2021-07-01T00:00:00",
          "2021-08-01T00:00:00",
          "2021-09-01T00:00:00",
          "2021-10-01T00:00:00",
          "2021-11-01T00:00:00",
          "2021-12-01T00:00:00",
          "2022-01-01T00:00:00",
          "2022-02-01T00:00:00",
          "2022-03-01T00:00:00",
          "2022-04-01T00:00:00",
          "2022-05-01T00:00:00",
          "2022-06-01T00:00:00",
          "2022-07-01T00:00:00",
          "2022-08-01T00:00:00",
          "2022-09-01T00:00:00",
          "2022-10-01T00:00:00",
          "2022-11-01T00:00:00",
          "2022-12-01T00:00:00",
          "2023-01-01T00:00:00",
          "2023-02-01T00:00:00",
          "2023-03-01T00:00:00",
          "2023-04-01T00:00:00",
          "2023-05-01T00:00:00",
          "2023-06-01T00:00:00",
          "2023-07-01T00:00:00",
          "2023-08-01T00:00:00",
          "2023-09-01T00:00:00",
          "2023-10-01T00:00:00",
          "2023-11-01T00:00:00",
          "2023-12-01T00:00:00",
          "2024-01-01T00:00:00",
          "2024-02-01T00:00:00",
          "2024-03-01T00:00:00",
          "2024-04-01T00:00:00",
          "2024-05-01T00:00:00",
          "2024-06-01T00:00:00",
          "2024-07-01T00:00:00",
          "2024-08-01T00:00:00",
          "2024-09-01T00:00:00",
          "2024-10-01T00:00:00",
          "2024-11-01T00:00:00",
          "2024-12-01T00:00:00"
         ],
         "xaxis": "x",
         "y": [
          19.471763610839844,
          19.28348731994629,
          18.976299285888672,
          17.93582534790039,
          19.18439483642578,
          20.541967391967773,
          21.721176147460938,
          21.89954376220703,
          24.277774810791016,
          22.59319305419922,
          24.208406448364258,
          25.86326026916504,
          22.989564895629883,
          20.92843246459961,
          19.471763610839844,
          19.61049461364746,
          22.325641632080078,
          22.2860050201416,
          22.01845359802246,
          22.39500617980957,
          18.887115478515625,
          18.17364501953125,
          18.788022994995117,
          19.06548500061035,
          20.115867614746094,
          17.93582534790039,
          20.06632423400879,
          19.81859016418457,
          20.482511520385742,
          18.976299285888672,
          20.47260284423828,
          18.55019760131836,
          16.637706756591797,
          15.844963073730469,
          17.41063117980957,
          17.598907470703125,
          15.478318214416504,
          15.359407424926758,
          18.381742477416992,
          16.221515655517578,
          17.53879737854004,
          15.84245491027832,
          17.399917602539062,
          20.04859161376953,
          18.332408905029297,
          21.963176727294922,
          19.304580688476562,
          18.46137237548828,
          18.233205795288086,
          17.816560745239258,
          18.699453353881836,
          19.542665481567383,
          20.724573135375977,
          22.098249435424805,
          23.133481979370117,
          22.247560501098633,
          22.71540641784668,
          22.20774269104004,
          22.795040130615234,
          22.844810485839844,
          22.95430564880371,
          22.615863800048828,
          22.157974243164062,
          20.067598342895508,
          19.619659423828125,
          20.719999313354492,
          22.149999618530273,
          21.850000381469727,
          20,
          19.899999618530273,
          19.450000762939453,
          17.84000015258789
         ],
         "yaxis": "y"
        },
        {
         "hovertemplate": "Variável=VLID3.SA<br>Data=%{x}<br>Valor (%)=%{y}<extra></extra>",
         "legendgroup": "VLID3.SA",
         "line": {
          "color": "#19D3F3",
          "dash": "solid"
         },
         "marker": {
          "symbol": "circle"
         },
         "mode": "lines",
         "name": "VLID3.SA",
         "showlegend": true,
         "type": "scattergl",
         "x": [
          "2019-01-01T00:00:00",
          "2019-02-01T00:00:00",
          "2019-03-01T00:00:00",
          "2019-04-01T00:00:00",
          "2019-05-01T00:00:00",
          "2019-06-01T00:00:00",
          "2019-07-01T00:00:00",
          "2019-08-01T00:00:00",
          "2019-09-01T00:00:00",
          "2019-10-01T00:00:00",
          "2019-11-01T00:00:00",
          "2019-12-01T00:00:00",
          "2020-01-01T00:00:00",
          "2020-02-01T00:00:00",
          "2020-03-01T00:00:00",
          "2020-04-01T00:00:00",
          "2020-05-01T00:00:00",
          "2020-06-01T00:00:00",
          "2020-07-01T00:00:00",
          "2020-08-01T00:00:00",
          "2020-09-01T00:00:00",
          "2020-10-01T00:00:00",
          "2020-11-01T00:00:00",
          "2020-12-01T00:00:00",
          "2021-01-01T00:00:00",
          "2021-02-01T00:00:00",
          "2021-03-01T00:00:00",
          "2021-04-01T00:00:00",
          "2021-05-01T00:00:00",
          "2021-06-01T00:00:00",
          "2021-07-01T00:00:00",
          "2021-08-01T00:00:00",
          "2021-09-01T00:00:00",
          "2021-10-01T00:00:00",
          "2021-11-01T00:00:00",
          "2021-12-01T00:00:00",
          "2022-01-01T00:00:00",
          "2022-02-01T00:00:00",
          "2022-03-01T00:00:00",
          "2022-04-01T00:00:00",
          "2022-05-01T00:00:00",
          "2022-06-01T00:00:00",
          "2022-07-01T00:00:00",
          "2022-08-01T00:00:00",
          "2022-09-01T00:00:00",
          "2022-10-01T00:00:00",
          "2022-11-01T00:00:00",
          "2022-12-01T00:00:00",
          "2023-01-01T00:00:00",
          "2023-02-01T00:00:00",
          "2023-03-01T00:00:00",
          "2023-04-01T00:00:00",
          "2023-05-01T00:00:00",
          "2023-06-01T00:00:00",
          "2023-07-01T00:00:00",
          "2023-08-01T00:00:00",
          "2023-09-01T00:00:00",
          "2023-10-01T00:00:00",
          "2023-11-01T00:00:00",
          "2023-12-01T00:00:00",
          "2024-01-01T00:00:00",
          "2024-02-01T00:00:00",
          "2024-03-01T00:00:00",
          "2024-04-01T00:00:00",
          "2024-05-01T00:00:00",
          "2024-06-01T00:00:00",
          "2024-07-01T00:00:00",
          "2024-08-01T00:00:00",
          "2024-09-01T00:00:00",
          "2024-10-01T00:00:00",
          "2024-11-01T00:00:00",
          "2024-12-01T00:00:00"
         ],
         "xaxis": "x",
         "y": [
          14.852306365966797,
          13.999131202697754,
          13.707632064819336,
          12.619840621948242,
          10.565115928649902,
          11.005919456481934,
          10.813958168029785,
          8.204670906066895,
          9.825699806213379,
          9.441773414611816,
          9.52708911895752,
          12.639546394348145,
          13.078729629516602,
          10.927475929260254,
          6.8929443359375,
          6.63985538482666,
          8.113725662231445,
          8.031844139099121,
          8.195606231689453,
          7.614991188049316,
          6.4165425300598145,
          5.433961391448975,
          7.190695285797119,
          6.989713191986084,
          6.510540008544922,
          5.7392578125,
          6.858375549316406,
          7.2591400146484375,
          7.44061803817749,
          8.317763328552246,
          6.692019939422607,
          6.86593770980835,
          6.261007785797119,
          5.398985385894775,
          6.245884895324707,
          6.563473701477051,
          7.334756374359131,
          7.961786270141602,
          7.616982460021973,
          7.060598373413086,
          7.922603130340576,
          7.311364650726318,
          8.259567260742188,
          8.298750877380371,
          7.718856334686279,
          8.502498626708984,
          7.060598373413086,
          7.20165491104126,
          7.311364650726318,
          7.2345290184021,
          7.7587690353393555,
          8.48464298248291,
          11.363937377929688,
          11.980077743530273,
          12.39713191986084,
          14.107278823852539,
          14.22338581085205,
          13.120349884033203,
          17.158573150634766,
          17.293546676635742,
          17.575176239013672,
          16.000003814697266,
          15.828784942626953,
          15.109684944152832,
          13.825183868408203,
          13.523026466369629,
          15.246724128723145,
          20.213459014892578,
          20.626476287841797,
          21.780467987060547,
          22.31657600402832,
          22.580646514892578
         ],
         "yaxis": "y"
        },
        {
         "hovertemplate": "Variável=TASA3.SA<br>Data=%{x}<br>Valor (%)=%{y}<extra></extra>",
         "legendgroup": "TASA3.SA",
         "line": {
          "color": "#FF6692",
          "dash": "solid"
         },
         "marker": {
          "symbol": "circle"
         },
         "mode": "lines",
         "name": "TASA3.SA",
         "showlegend": true,
         "type": "scattergl",
         "x": [
          "2019-01-01T00:00:00",
          "2019-02-01T00:00:00",
          "2019-03-01T00:00:00",
          "2019-04-01T00:00:00",
          "2019-05-01T00:00:00",
          "2019-06-01T00:00:00",
          "2019-07-01T00:00:00",
          "2019-08-01T00:00:00",
          "2019-09-01T00:00:00",
          "2019-10-01T00:00:00",
          "2019-11-01T00:00:00",
          "2019-12-01T00:00:00",
          "2020-01-01T00:00:00",
          "2020-02-01T00:00:00",
          "2020-03-01T00:00:00",
          "2020-04-01T00:00:00",
          "2020-05-01T00:00:00",
          "2020-06-01T00:00:00",
          "2020-07-01T00:00:00",
          "2020-08-01T00:00:00",
          "2020-09-01T00:00:00",
          "2020-10-01T00:00:00",
          "2020-11-01T00:00:00",
          "2020-12-01T00:00:00",
          "2021-01-01T00:00:00",
          "2021-02-01T00:00:00",
          "2021-03-01T00:00:00",
          "2021-04-01T00:00:00",
          "2021-05-01T00:00:00",
          "2021-06-01T00:00:00",
          "2021-07-01T00:00:00",
          "2021-08-01T00:00:00",
          "2021-09-01T00:00:00",
          "2021-10-01T00:00:00",
          "2021-11-01T00:00:00",
          "2021-12-01T00:00:00",
          "2022-01-01T00:00:00",
          "2022-02-01T00:00:00",
          "2022-03-01T00:00:00",
          "2022-04-01T00:00:00",
          "2022-05-01T00:00:00",
          "2022-06-01T00:00:00",
          "2022-07-01T00:00:00",
          "2022-08-01T00:00:00",
          "2022-09-01T00:00:00",
          "2022-10-01T00:00:00",
          "2022-11-01T00:00:00",
          "2022-12-01T00:00:00",
          "2023-01-01T00:00:00",
          "2023-02-01T00:00:00",
          "2023-03-01T00:00:00",
          "2023-04-01T00:00:00",
          "2023-05-01T00:00:00",
          "2023-06-01T00:00:00",
          "2023-07-01T00:00:00",
          "2023-08-01T00:00:00",
          "2023-09-01T00:00:00",
          "2023-10-01T00:00:00",
          "2023-11-01T00:00:00",
          "2023-12-01T00:00:00",
          "2024-01-01T00:00:00",
          "2024-02-01T00:00:00",
          "2024-03-01T00:00:00",
          "2024-04-01T00:00:00",
          "2024-05-01T00:00:00",
          "2024-06-01T00:00:00",
          "2024-07-01T00:00:00",
          "2024-08-01T00:00:00",
          "2024-09-01T00:00:00",
          "2024-10-01T00:00:00",
          "2024-11-01T00:00:00",
          "2024-12-01T00:00:00"
         ],
         "xaxis": "x",
         "y": [
          4.091793060302734,
          3.612877607345581,
          3.4028267860412598,
          3.1507651805877686,
          2.9155080318450928,
          2.856693983078003,
          2.7642710208892822,
          2.856693983078003,
          2.806281566619873,
          2.8314876556396484,
          3.7809181213378906,
          4.293442726135254,
          4.5286993980407715,
          3.2767958641052246,
          3.007930278778076,
          2.940714120864868,
          3.2599916458129883,
          4.629524230957031,
          4.4446797370910645,
          4.974007606506348,
          6.536787033081055,
          6.17549991607666,
          11.334352493286133,
          13.334037780761719,
          14.88841438293457,
          15.955475807189941,
          19.333093643188477,
          21.929323196411133,
          21.013504028320312,
          19.65237045288086,
          22.349428176879883,
          19.828815460205078,
          18.719745635986328,
          17.988765716552734,
          18.694538116455078,
          20.568193435668945,
          18.55170440673828,
          18.887784957885742,
          20.921077728271484,
          19.954845428466797,
          17.92388343811035,
          14.536270141601562,
          16.669214248657227,
          16.20319175720215,
          15.369729995727539,
          13.299522399902344,
          12.985855102539062,
          11.874574661254883,
          14.321183204650879,
          13.398103713989258,
          14.007516860961914,
          15.280111312866211,
          13.299522399902344,
          14.878206253051758,
          14.5193452835083,
          14.538742065429688,
          15.506441116333008,
          14.266316413879395,
          14.051491737365723,
          14.60808277130127,
          14.080785751342773,
          13.817136764526367,
          13.416781425476074,
          12.596541404724121,
          11.366182327270508,
          11.680000305175781,
          11.699999809265137,
          11.40999984741211,
          10.800000190734863,
          9.75,
          9.25,
          8.779999732971191
         ],
         "yaxis": "y"
        },
        {
         "hovertemplate": "Variável=TUPY3.SA<br>Data=%{x}<br>Valor (%)=%{y}<extra></extra>",
         "legendgroup": "TUPY3.SA",
         "line": {
          "color": "#B6E880",
          "dash": "solid"
         },
         "marker": {
          "symbol": "circle"
         },
         "mode": "lines",
         "name": "TUPY3.SA",
         "showlegend": true,
         "type": "scattergl",
         "x": [
          "2019-01-01T00:00:00",
          "2019-02-01T00:00:00",
          "2019-03-01T00:00:00",
          "2019-04-01T00:00:00",
          "2019-05-01T00:00:00",
          "2019-06-01T00:00:00",
          "2019-07-01T00:00:00",
          "2019-08-01T00:00:00",
          "2019-09-01T00:00:00",
          "2019-10-01T00:00:00",
          "2019-11-01T00:00:00",
          "2019-12-01T00:00:00",
          "2020-01-01T00:00:00",
          "2020-02-01T00:00:00",
          "2020-03-01T00:00:00",
          "2020-04-01T00:00:00",
          "2020-05-01T00:00:00",
          "2020-06-01T00:00:00",
          "2020-07-01T00:00:00",
          "2020-08-01T00:00:00",
          "2020-09-01T00:00:00",
          "2020-10-01T00:00:00",
          "2020-11-01T00:00:00",
          "2020-12-01T00:00:00",
          "2021-01-01T00:00:00",
          "2021-02-01T00:00:00",
          "2021-03-01T00:00:00",
          "2021-04-01T00:00:00",
          "2021-05-01T00:00:00",
          "2021-06-01T00:00:00",
          "2021-07-01T00:00:00",
          "2021-08-01T00:00:00",
          "2021-09-01T00:00:00",
          "2021-10-01T00:00:00",
          "2021-11-01T00:00:00",
          "2021-12-01T00:00:00",
          "2022-01-01T00:00:00",
          "2022-02-01T00:00:00",
          "2022-03-01T00:00:00",
          "2022-04-01T00:00:00",
          "2022-05-01T00:00:00",
          "2022-06-01T00:00:00",
          "2022-07-01T00:00:00",
          "2022-08-01T00:00:00",
          "2022-09-01T00:00:00",
          "2022-10-01T00:00:00",
          "2022-11-01T00:00:00",
          "2022-12-01T00:00:00",
          "2023-01-01T00:00:00",
          "2023-02-01T00:00:00",
          "2023-03-01T00:00:00",
          "2023-04-01T00:00:00",
          "2023-05-01T00:00:00",
          "2023-06-01T00:00:00",
          "2023-07-01T00:00:00",
          "2023-08-01T00:00:00",
          "2023-09-01T00:00:00",
          "2023-10-01T00:00:00",
          "2023-11-01T00:00:00",
          "2023-12-01T00:00:00",
          "2024-01-01T00:00:00",
          "2024-02-01T00:00:00",
          "2024-03-01T00:00:00",
          "2024-04-01T00:00:00",
          "2024-05-01T00:00:00",
          "2024-06-01T00:00:00",
          "2024-07-01T00:00:00",
          "2024-08-01T00:00:00",
          "2024-09-01T00:00:00",
          "2024-10-01T00:00:00",
          "2024-11-01T00:00:00",
          "2024-12-01T00:00:00"
         ],
         "xaxis": "x",
         "y": [
          14.534391403198242,
          14.677982330322266,
          14.454622268676758,
          14.664591789245605,
          16.457860946655273,
          17.671958923339844,
          16.250757217407227,
          14.922611236572266,
          15.184858322143555,
          16.183080673217773,
          16.6652774810791,
          21.402612686157227,
          21.055768966674805,
          18.517911911010742,
          11.09890365600586,
          12.520105361938477,
          12.833108901977539,
          16.157703399658203,
          15.396347045898438,
          14.296605110168457,
          14.694205284118652,
          15.96313190460205,
          18.14569091796875,
          17.739633560180664,
          17.874988555908203,
          17.976499557495117,
          17.638120651245117,
          19.812219619750977,
          20.81044578552246,
          20.08292579650879,
          18.526371002197266,
          18.847835540771484,
          17.17152214050293,
          17.784486770629883,
          16.439367294311523,
          17.540868759155273,
          18.026840209960938,
          15.910608291625977,
          15.41826343536377,
          17.672693252563477,
          19.953046798706055,
          19.20156478881836,
          19.668001174926758,
          23.071245193481445,
          21.68058204650879,
          25.51571273803711,
          24.461912155151367,
          23.805274963378906,
          23.509340286254883,
          23.82876205444336,
          21.25718879699707,
          19.572059631347656,
          22.345497131347656,
          23.803985595703125,
          24.66645050048828,
          23.55886459350586,
          24.684608459472656,
          22.359970092773438,
          23.80710792541504,
          26.938159942626953,
          24.5296573638916,
          23.94921112060547,
          26.035411834716797,
          24.351484298706055,
          21.657197952270508,
          22.253446578979492,
          23.26111602783203,
          25.766159057617188,
          24.212278366088867,
          21.98975944519043,
          19.475297927856445,
          22.507719039916992
         ],
         "yaxis": "y"
        },
        {
         "hovertemplate": "Variável=EMBR3.SA<br>Data=%{x}<br>Valor (%)=%{y}<extra></extra>",
         "legendgroup": "EMBR3.SA",
         "line": {
          "color": "#FF97FF",
          "dash": "solid"
         },
         "marker": {
          "symbol": "circle"
         },
         "mode": "lines",
         "name": "EMBR3.SA",
         "showlegend": true,
         "type": "scattergl",
         "x": [
          "2019-01-01T00:00:00",
          "2019-02-01T00:00:00",
          "2019-03-01T00:00:00",
          "2019-04-01T00:00:00",
          "2019-05-01T00:00:00",
          "2019-06-01T00:00:00",
          "2019-07-01T00:00:00",
          "2019-08-01T00:00:00",
          "2019-09-01T00:00:00",
          "2019-10-01T00:00:00",
          "2019-11-01T00:00:00",
          "2019-12-01T00:00:00",
          "2020-01-01T00:00:00",
          "2020-02-01T00:00:00",
          "2020-03-01T00:00:00",
          "2020-04-01T00:00:00",
          "2020-05-01T00:00:00",
          "2020-06-01T00:00:00",
          "2020-07-01T00:00:00",
          "2020-08-01T00:00:00",
          "2020-09-01T00:00:00",
          "2020-10-01T00:00:00",
          "2020-11-01T00:00:00",
          "2020-12-01T00:00:00",
          "2021-01-01T00:00:00",
          "2021-02-01T00:00:00",
          "2021-03-01T00:00:00",
          "2021-04-01T00:00:00",
          "2021-05-01T00:00:00",
          "2021-06-01T00:00:00",
          "2021-07-01T00:00:00",
          "2021-08-01T00:00:00",
          "2021-09-01T00:00:00",
          "2021-10-01T00:00:00",
          "2021-11-01T00:00:00",
          "2021-12-01T00:00:00",
          "2022-01-01T00:00:00",
          "2022-02-01T00:00:00",
          "2022-03-01T00:00:00",
          "2022-04-01T00:00:00",
          "2022-05-01T00:00:00",
          "2022-06-01T00:00:00",
          "2022-07-01T00:00:00",
          "2022-08-01T00:00:00",
          "2022-09-01T00:00:00",
          "2022-10-01T00:00:00",
          "2022-11-01T00:00:00",
          "2022-12-01T00:00:00",
          "2023-01-01T00:00:00",
          "2023-02-01T00:00:00",
          "2023-03-01T00:00:00",
          "2023-04-01T00:00:00",
          "2023-05-01T00:00:00",
          "2023-06-01T00:00:00",
          "2023-07-01T00:00:00",
          "2023-08-01T00:00:00",
          "2023-09-01T00:00:00",
          "2023-10-01T00:00:00",
          "2023-11-01T00:00:00",
          "2023-12-01T00:00:00",
          "2024-01-01T00:00:00",
          "2024-02-01T00:00:00",
          "2024-03-01T00:00:00",
          "2024-04-01T00:00:00",
          "2024-05-01T00:00:00",
          "2024-06-01T00:00:00",
          "2024-07-01T00:00:00",
          "2024-08-01T00:00:00",
          "2024-09-01T00:00:00",
          "2024-10-01T00:00:00",
          "2024-11-01T00:00:00",
          "2024-12-01T00:00:00"
         ],
         "xaxis": "x",
         "y": [
          19.34000015258789,
          19.079999923706055,
          18.450000762939453,
          19.639999389648438,
          18.950000762939453,
          19.40999984741211,
          19.309999465942383,
          17.950000762939453,
          17.90999984741211,
          17.530000686645508,
          18,
          19.729999542236328,
          18.139999389648438,
          16.959999084472656,
          9.539999961853027,
          8.649999618530273,
          7.150000095367432,
          8.09000015258789,
          7.610000133514404,
          7.340000152587891,
          6.239999771118164,
          6.03000020980835,
          8.100000381469727,
          8.850000381469727,
          8.789999961853027,
          12.229999542236328,
          14.010000228881836,
          15.399999618530273,
          17.280000686645508,
          18.8700008392334,
          18.59000015258789,
          23.420000076293945,
          23.1299991607666,
          21.93000030517578,
          19.139999389648438,
          25.020000457763672,
          20.309999465942383,
          17.600000381469727,
          14.960000038146973,
          14.210000038146973,
          12.739999771118164,
          11.4399995803833,
          11.75,
          13.819999694824219,
          11.649999618530273,
          13.75,
          13.550000190734863,
          14.3100004196167,
          16.350000381469727,
          16.59000015258789,
          20.790000915527344,
          19.420000076293945,
          19.020000457763672,
          18.540000915527344,
          18.510000228881836,
          19.489999771118164,
          17.219999313354492,
          17.59000015258789,
          21.5,
          22.389999389648438,
          22.780000686645508,
          24.43000030517578,
          33.310001373291016,
          33.349998474121094,
          36.22999954223633,
          36.150001525878906,
          43.810001373291016,
          46.83000183105469,
          47.970001220703125,
          48.47999954223633,
          58.130001068115234,
          56.189998626708984
         ],
         "yaxis": "y"
        },
        {
         "hovertemplate": "Variável=AZUL4.SA<br>Data=%{x}<br>Valor (%)=%{y}<extra></extra>",
         "legendgroup": "AZUL4.SA",
         "line": {
          "color": "#FECB52",
          "dash": "solid"
         },
         "marker": {
          "symbol": "circle"
         },
         "mode": "lines",
         "name": "AZUL4.SA",
         "showlegend": true,
         "type": "scattergl",
         "x": [
          "2019-01-01T00:00:00",
          "2019-02-01T00:00:00",
          "2019-03-01T00:00:00",
          "2019-04-01T00:00:00",
          "2019-05-01T00:00:00",
          "2019-06-01T00:00:00",
          "2019-07-01T00:00:00",
          "2019-08-01T00:00:00",
          "2019-09-01T00:00:00",
          "2019-10-01T00:00:00",
          "2019-11-01T00:00:00",
          "2019-12-01T00:00:00",
          "2020-01-01T00:00:00",
          "2020-02-01T00:00:00",
          "2020-03-01T00:00:00",
          "2020-04-01T00:00:00",
          "2020-05-01T00:00:00",
          "2020-06-01T00:00:00",
          "2020-07-01T00:00:00",
          "2020-08-01T00:00:00",
          "2020-09-01T00:00:00",
          "2020-10-01T00:00:00",
          "2020-11-01T00:00:00",
          "2020-12-01T00:00:00",
          "2021-01-01T00:00:00",
          "2021-02-01T00:00:00",
          "2021-03-01T00:00:00",
          "2021-04-01T00:00:00",
          "2021-05-01T00:00:00",
          "2021-06-01T00:00:00",
          "2021-07-01T00:00:00",
          "2021-08-01T00:00:00",
          "2021-09-01T00:00:00",
          "2021-10-01T00:00:00",
          "2021-11-01T00:00:00",
          "2021-12-01T00:00:00",
          "2022-01-01T00:00:00",
          "2022-02-01T00:00:00",
          "2022-03-01T00:00:00",
          "2022-04-01T00:00:00",
          "2022-05-01T00:00:00",
          "2022-06-01T00:00:00",
          "2022-07-01T00:00:00",
          "2022-08-01T00:00:00",
          "2022-09-01T00:00:00",
          "2022-10-01T00:00:00",
          "2022-11-01T00:00:00",
          "2022-12-01T00:00:00",
          "2023-01-01T00:00:00",
          "2023-02-01T00:00:00",
          "2023-03-01T00:00:00",
          "2023-04-01T00:00:00",
          "2023-05-01T00:00:00",
          "2023-06-01T00:00:00",
          "2023-07-01T00:00:00",
          "2023-08-01T00:00:00",
          "2023-09-01T00:00:00",
          "2023-10-01T00:00:00",
          "2023-11-01T00:00:00",
          "2023-12-01T00:00:00",
          "2024-01-01T00:00:00",
          "2024-02-01T00:00:00",
          "2024-03-01T00:00:00",
          "2024-04-01T00:00:00",
          "2024-05-01T00:00:00",
          "2024-06-01T00:00:00",
          "2024-07-01T00:00:00",
          "2024-08-01T00:00:00",
          "2024-09-01T00:00:00",
          "2024-10-01T00:00:00",
          "2024-11-01T00:00:00",
          "2024-12-01T00:00:00"
         ],
         "xaxis": "x",
         "y": [
          37.11000061035156,
          37.650001525878906,
          38.27000045776367,
          34,
          39.20000076293945,
          43.290000915527344,
          51.779998779296875,
          47.099998474121094,
          49.709999084472656,
          52.52000045776367,
          53.099998474121094,
          58.279998779296875,
          59.2599983215332,
          44.439998626708984,
          17.549999237060547,
          17.399999618530273,
          14.279999732971191,
          20.110000610351562,
          20.309999465942383,
          22.209999084472656,
          24.3799991607666,
          22.549999237060547,
          38.02000045776367,
          39.29999923706055,
          40.34000015258789,
          40.599998474121094,
          37.849998474121094,
          38.5,
          43,
          43.88999938964844,
          38.900001525878906,
          37.72999954223633,
          36.40999984741211,
          24.8700008392334,
          23.3799991607666,
          24.329999923706055,
          29.209999084472656,
          25.290000915527344,
          23.920000076293945,
          21.969999313354492,
          20.110000610351562,
          12.380000114440918,
          11.729999542236328,
          16.489999771118164,
          14.720000267028809,
          16.1299991607666,
          12.279999732971191,
          11.010000228881836,
          11.850000381469727,
          7.130000114440918,
          12.029999732971191,
          10.859999656677246,
          16.850000381469727,
          21.860000610351562,
          17.700000762939453,
          14.489999771118164,
          14.479999542236328,
          12.880000114440918,
          16.889999389648438,
          16.010000228881836,
          13.399999618530273,
          12.09000015258789,
          13.039999961853027,
          9.75,
          9.470000267028809,
          7.340000152587891,
          8,
          5.389999866485596,
          6.239999771118164,
          5.679999828338623,
          4.929999828338623,
          3.5399999618530273
         ],
         "yaxis": "y"
        },
        {
         "hovertemplate": "Variável=JSLG3.SA<br>Data=%{x}<br>Valor (%)=%{y}<extra></extra>",
         "legendgroup": "JSLG3.SA",
         "line": {
          "color": "#636EFA",
          "dash": "solid"
         },
         "marker": {
          "symbol": "circle"
         },
         "mode": "lines",
         "name": "JSLG3.SA",
         "showlegend": true,
         "type": "scattergl",
         "x": [
          "2019-01-01T00:00:00",
          "2019-02-01T00:00:00",
          "2019-03-01T00:00:00",
          "2019-04-01T00:00:00",
          "2019-05-01T00:00:00",
          "2019-06-01T00:00:00",
          "2019-07-01T00:00:00",
          "2019-08-01T00:00:00",
          "2019-09-01T00:00:00",
          "2019-10-01T00:00:00",
          "2019-11-01T00:00:00",
          "2019-12-01T00:00:00",
          "2020-01-01T00:00:00",
          "2020-02-01T00:00:00",
          "2020-03-01T00:00:00",
          "2020-04-01T00:00:00",
          "2020-05-01T00:00:00",
          "2020-06-01T00:00:00",
          "2020-07-01T00:00:00",
          "2020-08-01T00:00:00",
          "2020-09-01T00:00:00",
          "2020-10-01T00:00:00",
          "2020-11-01T00:00:00",
          "2020-12-01T00:00:00",
          "2021-01-01T00:00:00",
          "2021-02-01T00:00:00",
          "2021-03-01T00:00:00",
          "2021-04-01T00:00:00",
          "2021-05-01T00:00:00",
          "2021-06-01T00:00:00",
          "2021-07-01T00:00:00",
          "2021-08-01T00:00:00",
          "2021-09-01T00:00:00",
          "2021-10-01T00:00:00",
          "2021-11-01T00:00:00",
          "2021-12-01T00:00:00",
          "2022-01-01T00:00:00",
          "2022-02-01T00:00:00",
          "2022-03-01T00:00:00",
          "2022-04-01T00:00:00",
          "2022-05-01T00:00:00",
          "2022-06-01T00:00:00",
          "2022-07-01T00:00:00",
          "2022-08-01T00:00:00",
          "2022-09-01T00:00:00",
          "2022-10-01T00:00:00",
          "2022-11-01T00:00:00",
          "2022-12-01T00:00:00",
          "2023-01-01T00:00:00",
          "2023-02-01T00:00:00",
          "2023-03-01T00:00:00",
          "2023-04-01T00:00:00",
          "2023-05-01T00:00:00",
          "2023-06-01T00:00:00",
          "2023-07-01T00:00:00",
          "2023-08-01T00:00:00",
          "2023-09-01T00:00:00",
          "2023-10-01T00:00:00",
          "2023-11-01T00:00:00",
          "2023-12-01T00:00:00",
          "2024-01-01T00:00:00",
          "2024-02-01T00:00:00",
          "2024-03-01T00:00:00",
          "2024-04-01T00:00:00",
          "2024-05-01T00:00:00",
          "2024-06-01T00:00:00",
          "2024-07-01T00:00:00",
          "2024-08-01T00:00:00",
          "2024-09-01T00:00:00",
          "2024-10-01T00:00:00",
          "2024-11-01T00:00:00",
          "2024-12-01T00:00:00"
         ],
         "xaxis": "x",
         "y": [
          null,
          null,
          null,
          null,
          null,
          null,
          null,
          null,
          null,
          null,
          null,
          null,
          null,
          null,
          null,
          null,
          null,
          null,
          null,
          null,
          6.714298725128174,
          6.867445945739746,
          8.18128776550293,
          8.721333503723145,
          7.70572566986084,
          7.643490791320801,
          6.743780136108398,
          8.08118724822998,
          8.921588897705078,
          9.803942680358887,
          9.387275695800781,
          8.455902099609375,
          7.598055839538574,
          5.89870548248291,
          5.89870548248291,
          6.06210470199585,
          5.959600925445557,
          6.485447883605957,
          6.67742395401001,
          6.109843730926514,
          5.47548770904541,
          4.431875228881836,
          4.405908107757568,
          5.539844989776611,
          4.7954277992248535,
          6.604533672332764,
          5.245540142059326,
          4.769460201263428,
          5.868207931518555,
          6.2925238609313965,
          5.958487510681152,
          6.500168323516846,
          7.375885963439941,
          7.989790439605713,
          8.892592430114746,
          7.809229373931885,
          7.646726131439209,
          7.592557907104492,
          9.000927925109863,
          11.239874839782715,
          10.143013000488281,
          11.016129493713379,
          11.554861068725586,
          10.746764183044434,
          9.752897262573242,
          8.731164932250977,
          8.777607917785645,
          9.204876899719238,
          8.183145523071289,
          7.384336471557617,
          6.297585487365723,
          5.025063991546631
         ],
         "yaxis": "y"
        },
        {
         "hovertemplate": "Variável=RAPT4.SA<br>Data=%{x}<br>Valor (%)=%{y}<extra></extra>",
         "legendgroup": "RAPT4.SA",
         "line": {
          "color": "#EF553B",
          "dash": "solid"
         },
         "marker": {
          "symbol": "circle"
         },
         "mode": "lines",
         "name": "RAPT4.SA",
         "showlegend": true,
         "type": "scattergl",
         "x": [
          "2019-01-01T00:00:00",
          "2019-02-01T00:00:00",
          "2019-03-01T00:00:00",
          "2019-04-01T00:00:00",
          "2019-05-01T00:00:00",
          "2019-06-01T00:00:00",
          "2019-07-01T00:00:00",
          "2019-08-01T00:00:00",
          "2019-09-01T00:00:00",
          "2019-10-01T00:00:00",
          "2019-11-01T00:00:00",
          "2019-12-01T00:00:00",
          "2020-01-01T00:00:00",
          "2020-02-01T00:00:00",
          "2020-03-01T00:00:00",
          "2020-04-01T00:00:00",
          "2020-05-01T00:00:00",
          "2020-06-01T00:00:00",
          "2020-07-01T00:00:00",
          "2020-08-01T00:00:00",
          "2020-09-01T00:00:00",
          "2020-10-01T00:00:00",
          "2020-11-01T00:00:00",
          "2020-12-01T00:00:00",
          "2021-01-01T00:00:00",
          "2021-02-01T00:00:00",
          "2021-03-01T00:00:00",
          "2021-04-01T00:00:00",
          "2021-05-01T00:00:00",
          "2021-06-01T00:00:00",
          "2021-07-01T00:00:00",
          "2021-08-01T00:00:00",
          "2021-09-01T00:00:00",
          "2021-10-01T00:00:00",
          "2021-11-01T00:00:00",
          "2021-12-01T00:00:00",
          "2022-01-01T00:00:00",
          "2022-02-01T00:00:00",
          "2022-03-01T00:00:00",
          "2022-04-01T00:00:00",
          "2022-05-01T00:00:00",
          "2022-06-01T00:00:00",
          "2022-07-01T00:00:00",
          "2022-08-01T00:00:00",
          "2022-09-01T00:00:00",
          "2022-10-01T00:00:00",
          "2022-11-01T00:00:00",
          "2022-12-01T00:00:00",
          "2023-01-01T00:00:00",
          "2023-02-01T00:00:00",
          "2023-03-01T00:00:00",
          "2023-04-01T00:00:00",
          "2023-05-01T00:00:00",
          "2023-06-01T00:00:00",
          "2023-07-01T00:00:00",
          "2023-08-01T00:00:00",
          "2023-09-01T00:00:00",
          "2023-10-01T00:00:00",
          "2023-11-01T00:00:00",
          "2023-12-01T00:00:00",
          "2024-01-01T00:00:00",
          "2024-02-01T00:00:00",
          "2024-03-01T00:00:00",
          "2024-04-01T00:00:00",
          "2024-05-01T00:00:00",
          "2024-06-01T00:00:00",
          "2024-07-01T00:00:00",
          "2024-08-01T00:00:00",
          "2024-09-01T00:00:00",
          "2024-10-01T00:00:00",
          "2024-11-01T00:00:00",
          "2024-12-01T00:00:00"
         ],
         "xaxis": "x",
         "y": [
          7.62265682220459,
          7.355862140655518,
          7.393977642059326,
          6.479259014129639,
          6.464012622833252,
          6.96128511428833,
          7.63123083114624,
          7.362641334533691,
          7.463820457458496,
          8.055322647094727,
          8.397771835327148,
          10.42911434173584,
          10.723952293395996,
          9.209982872009277,
          4.297466278076172,
          6.702470779418945,
          6.939029216766357,
          7.577733516693115,
          9.265180587768555,
          8.460882186889648,
          9.678747177124023,
          10.092302322387695,
          11.690844535827637,
          12.788351058959961,
          11.16592788696289,
          10.46755599975586,
          10.997356414794922,
          11.16592788696289,
          12.14557933807373,
          11.173934936523438,
          11.182167053222656,
          9.631814956665039,
          9.789713859558105,
          8.443419456481934,
          9.199670791625977,
          8.975289344787598,
          10.153484344482422,
          8.94754695892334,
          9.006580352783203,
          8.998147010803223,
          8.921992301940918,
          8.18067455291748,
          8.765007972717285,
          8.463703155517578,
          8.463703155517578,
          8.855704307556152,
          8.312246322631836,
          7.314420700073242,
          7.477053642272949,
          7.34782075881958,
          6.932429313659668,
          7.624748706817627,
          9.93248176574707,
          11.234042167663574,
          11.483277320861816,
          11.2547607421875,
          10.96328353881836,
          10.258098602294922,
          10.530770301818848,
          12.03516674041748,
          11.307097434997559,
          10.640268325805664,
          12.437807083129883,
          10.331013679504395,
          9.200304985046387,
          10.553291320800781,
          10.32135009765625,
          10.780847549438477,
          10.555634498596191,
          10.477299690246582,
          10.20312786102295,
          9.693949699401855
         ],
         "yaxis": "y"
        },
        {
         "hovertemplate": "Variável=POMO4.SA<br>Data=%{x}<br>Valor (%)=%{y}<extra></extra>",
         "legendgroup": "POMO4.SA",
         "line": {
          "color": "#00CC96",
          "dash": "solid"
         },
         "marker": {
          "symbol": "circle"
         },
         "mode": "lines",
         "name": "POMO4.SA",
         "showlegend": true,
         "type": "scattergl",
         "x": [
          "2019-01-01T00:00:00",
          "2019-02-01T00:00:00",
          "2019-03-01T00:00:00",
          "2019-04-01T00:00:00",
          "2019-05-01T00:00:00",
          "2019-06-01T00:00:00",
          "2019-07-01T00:00:00",
          "2019-08-01T00:00:00",
          "2019-09-01T00:00:00",
          "2019-10-01T00:00:00",
          "2019-11-01T00:00:00",
          "2019-12-01T00:00:00",
          "2020-01-01T00:00:00",
          "2020-02-01T00:00:00",
          "2020-03-01T00:00:00",
          "2020-04-01T00:00:00",
          "2020-05-01T00:00:00",
          "2020-06-01T00:00:00",
          "2020-07-01T00:00:00",
          "2020-08-01T00:00:00",
          "2020-09-01T00:00:00",
          "2020-10-01T00:00:00",
          "2020-11-01T00:00:00",
          "2020-12-01T00:00:00",
          "2021-01-01T00:00:00",
          "2021-02-01T00:00:00",
          "2021-03-01T00:00:00",
          "2021-04-01T00:00:00",
          "2021-05-01T00:00:00",
          "2021-06-01T00:00:00",
          "2021-07-01T00:00:00",
          "2021-08-01T00:00:00",
          "2021-09-01T00:00:00",
          "2021-10-01T00:00:00",
          "2021-11-01T00:00:00",
          "2021-12-01T00:00:00",
          "2022-01-01T00:00:00",
          "2022-02-01T00:00:00",
          "2022-03-01T00:00:00",
          "2022-04-01T00:00:00",
          "2022-05-01T00:00:00",
          "2022-06-01T00:00:00",
          "2022-07-01T00:00:00",
          "2022-08-01T00:00:00",
          "2022-09-01T00:00:00",
          "2022-10-01T00:00:00",
          "2022-11-01T00:00:00",
          "2022-12-01T00:00:00",
          "2023-01-01T00:00:00",
          "2023-02-01T00:00:00",
          "2023-03-01T00:00:00",
          "2023-04-01T00:00:00",
          "2023-05-01T00:00:00",
          "2023-06-01T00:00:00",
          "2023-07-01T00:00:00",
          "2023-08-01T00:00:00",
          "2023-09-01T00:00:00",
          "2023-10-01T00:00:00",
          "2023-11-01T00:00:00",
          "2023-12-01T00:00:00",
          "2024-01-01T00:00:00",
          "2024-02-01T00:00:00",
          "2024-03-01T00:00:00",
          "2024-04-01T00:00:00",
          "2024-05-01T00:00:00",
          "2024-06-01T00:00:00",
          "2024-07-01T00:00:00",
          "2024-08-01T00:00:00",
          "2024-09-01T00:00:00",
          "2024-10-01T00:00:00",
          "2024-11-01T00:00:00",
          "2024-12-01T00:00:00"
         ],
         "xaxis": "x",
         "y": [
          3.104646921157837,
          3.0818185806274414,
          2.967677116394043,
          2.678518772125244,
          2.769831657409668,
          2.9296300411224365,
          2.918649673461914,
          2.7731003761291504,
          2.489661931991577,
          2.8014819622039795,
          2.755176305770874,
          3.4729115962982178,
          3.735308885574341,
          3.7816150188446045,
          1.9217718839645386,
          2.2460057735443115,
          2.0732359886169434,
          2.300977945327759,
          2.3402435779571533,
          2.214592695236206,
          2.1046483516693115,
          1.9240256547927856,
          2.183180332183838,
          2.2538585662841797,
          2.299105167388916,
          1.9830769300460815,
          2.2121973037719727,
          2.0620839595794678,
          2.1173884868621826,
          2.6783387660980225,
          2.378112316131592,
          2.2322680950164795,
          2.3366544246673584,
          2.079702615737915,
          2.063642978668213,
          2.4249818325042725,
          2.775177001953125,
          2.3532207012176514,
          2.1665852069854736,
          2.1665852069854736,
          2.32887601852417,
          2.0042943954467773,
          2.0042943954467773,
          2.1260128021240234,
          2.3451056480407715,
          2.33699107170105,
          1.9961800575256348,
          2.2964184284210205,
          2.562920093536377,
          2.6817312240600586,
          2.6987037658691406,
          3.1173596382141113,
          4.011754989624023,
          4.524079322814941,
          4.541446208953857,
          5.323667049407959,
          5.112828731536865,
          4.603302001953125,
          5.314197540283203,
          6.286089897155762,
          7.215748310089111,
          6.599403381347656,
          6.800843238830566,
          6.103869915008545,
          6.03903341293335,
          5.965238094329834,
          5.70220422744751,
          6.9046454429626465,
          7.59798526763916,
          8.085403442382812,
          8.209647178649902,
          7.157827377319336
         ],
         "yaxis": "y"
        },
        {
         "hovertemplate": "Variável=ROMI3.SA<br>Data=%{x}<br>Valor (%)=%{y}<extra></extra>",
         "legendgroup": "ROMI3.SA",
         "line": {
          "color": "#AB63FA",
          "dash": "solid"
         },
         "marker": {
          "symbol": "circle"
         },
         "mode": "lines",
         "name": "ROMI3.SA",
         "showlegend": true,
         "type": "scattergl",
         "x": [
          "2019-01-01T00:00:00",
          "2019-02-01T00:00:00",
          "2019-03-01T00:00:00",
          "2019-04-01T00:00:00",
          "2019-05-01T00:00:00",
          "2019-06-01T00:00:00",
          "2019-07-01T00:00:00",
          "2019-08-01T00:00:00",
          "2019-09-01T00:00:00",
          "2019-10-01T00:00:00",
          "2019-11-01T00:00:00",
          "2019-12-01T00:00:00",
          "2020-01-01T00:00:00",
          "2020-02-01T00:00:00",
          "2020-03-01T00:00:00",
          "2020-04-01T00:00:00",
          "2020-05-01T00:00:00",
          "2020-06-01T00:00:00",
          "2020-07-01T00:00:00",
          "2020-08-01T00:00:00",
          "2020-09-01T00:00:00",
          "2020-10-01T00:00:00",
          "2020-11-01T00:00:00",
          "2020-12-01T00:00:00",
          "2021-01-01T00:00:00",
          "2021-02-01T00:00:00",
          "2021-03-01T00:00:00",
          "2021-04-01T00:00:00",
          "2021-05-01T00:00:00",
          "2021-06-01T00:00:00",
          "2021-07-01T00:00:00",
          "2021-08-01T00:00:00",
          "2021-09-01T00:00:00",
          "2021-10-01T00:00:00",
          "2021-11-01T00:00:00",
          "2021-12-01T00:00:00",
          "2022-01-01T00:00:00",
          "2022-02-01T00:00:00",
          "2022-03-01T00:00:00",
          "2022-04-01T00:00:00",
          "2022-05-01T00:00:00",
          "2022-06-01T00:00:00",
          "2022-07-01T00:00:00",
          "2022-08-01T00:00:00",
          "2022-09-01T00:00:00",
          "2022-10-01T00:00:00",
          "2022-11-01T00:00:00",
          "2022-12-01T00:00:00",
          "2023-01-01T00:00:00",
          "2023-02-01T00:00:00",
          "2023-03-01T00:00:00",
          "2023-04-01T00:00:00",
          "2023-05-01T00:00:00",
          "2023-06-01T00:00:00",
          "2023-07-01T00:00:00",
          "2023-08-01T00:00:00",
          "2023-09-01T00:00:00",
          "2023-10-01T00:00:00",
          "2023-11-01T00:00:00",
          "2023-12-01T00:00:00",
          "2024-01-01T00:00:00",
          "2024-02-01T00:00:00",
          "2024-03-01T00:00:00",
          "2024-04-01T00:00:00",
          "2024-05-01T00:00:00",
          "2024-06-01T00:00:00",
          "2024-07-01T00:00:00",
          "2024-08-01T00:00:00",
          "2024-09-01T00:00:00",
          "2024-10-01T00:00:00",
          "2024-11-01T00:00:00",
          "2024-12-01T00:00:00"
         ],
         "xaxis": "x",
         "y": [
          3.889660120010376,
          4.239729881286621,
          4.263067245483398,
          3.4968039989471436,
          4.283385753631592,
          4.718227863311768,
          5.965855598449707,
          5.2465410232543945,
          5.6366777420043945,
          5.822230815887451,
          5.876565933227539,
          7.335256576538086,
          7.005002021789551,
          6.279469013214111,
          3.381579637527466,
          5.068731307983398,
          4.850526332855225,
          5.89609432220459,
          6.001177787780762,
          5.520167827606201,
          5.520167827606201,
          6.982917785644531,
          6.977227210998535,
          8.792670249938965,
          9.670701026916504,
          16.320825576782227,
          17.06379508972168,
          20.001060485839844,
          16.92067527770996,
          14.844633102416992,
          14.23437213897705,
          13.342416763305664,
          11.755352020263672,
          10.22689151763916,
          9.826082229614258,
          11.529519081115723,
          10.736821174621582,
          8.7789306640625,
          8.874300003051758,
          8.614975929260254,
          9.123631477355957,
          7.726433753967285,
          8.737669944763184,
          8.82923412322998,
          11.543404579162598,
          12.05364990234375,
          10.218292236328125,
          11.10683822631836,
          14.201271057128906,
          11.925520896911621,
          13.608100891113281,
          12.444238662719727,
          13.889697074890137,
          13.964461326599121,
          12.003954887390137,
          10.743033409118652,
          10.196634292602539,
          9.785050392150879,
          10.894081115722656,
          11.440064430236816,
          11.42460823059082,
          10.95723819732666,
          11.580397605895996,
          9.224072456359863,
          9.490949630737305,
          9.60098934173584,
          9.889751434326172,
          10.311588287353516,
          10.152227401733398,
          9.674673080444336,
          8.860467910766602,
          8.084577560424805
         ],
         "yaxis": "y"
        },
        {
         "hovertemplate": "Variável=WEGE3.SA<br>Data=%{x}<br>Valor (%)=%{y}<extra></extra>",
         "legendgroup": "WEGE3.SA",
         "line": {
          "color": "#FFA15A",
          "dash": "solid"
         },
         "marker": {
          "symbol": "circle"
         },
         "mode": "lines",
         "name": "WEGE3.SA",
         "showlegend": true,
         "type": "scattergl",
         "x": [
          "2019-01-01T00:00:00",
          "2019-02-01T00:00:00",
          "2019-03-01T00:00:00",
          "2019-04-01T00:00:00",
          "2019-05-01T00:00:00",
          "2019-06-01T00:00:00",
          "2019-07-01T00:00:00",
          "2019-08-01T00:00:00",
          "2019-09-01T00:00:00",
          "2019-10-01T00:00:00",
          "2019-11-01T00:00:00",
          "2019-12-01T00:00:00",
          "2020-01-01T00:00:00",
          "2020-02-01T00:00:00",
          "2020-03-01T00:00:00",
          "2020-04-01T00:00:00",
          "2020-05-01T00:00:00",
          "2020-06-01T00:00:00",
          "2020-07-01T00:00:00",
          "2020-08-01T00:00:00",
          "2020-09-01T00:00:00",
          "2020-10-01T00:00:00",
          "2020-11-01T00:00:00",
          "2020-12-01T00:00:00",
          "2021-01-01T00:00:00",
          "2021-02-01T00:00:00",
          "2021-03-01T00:00:00",
          "2021-04-01T00:00:00",
          "2021-05-01T00:00:00",
          "2021-06-01T00:00:00",
          "2021-07-01T00:00:00",
          "2021-08-01T00:00:00",
          "2021-09-01T00:00:00",
          "2021-10-01T00:00:00",
          "2021-11-01T00:00:00",
          "2021-12-01T00:00:00",
          "2022-01-01T00:00:00",
          "2022-02-01T00:00:00",
          "2022-03-01T00:00:00",
          "2022-04-01T00:00:00",
          "2022-05-01T00:00:00",
          "2022-06-01T00:00:00",
          "2022-07-01T00:00:00",
          "2022-08-01T00:00:00",
          "2022-09-01T00:00:00",
          "2022-10-01T00:00:00",
          "2022-11-01T00:00:00",
          "2022-12-01T00:00:00",
          "2023-01-01T00:00:00",
          "2023-02-01T00:00:00",
          "2023-03-01T00:00:00",
          "2023-04-01T00:00:00",
          "2023-05-01T00:00:00",
          "2023-06-01T00:00:00",
          "2023-07-01T00:00:00",
          "2023-08-01T00:00:00",
          "2023-09-01T00:00:00",
          "2023-10-01T00:00:00",
          "2023-11-01T00:00:00",
          "2023-12-01T00:00:00",
          "2024-01-01T00:00:00",
          "2024-02-01T00:00:00",
          "2024-03-01T00:00:00",
          "2024-04-01T00:00:00",
          "2024-05-01T00:00:00",
          "2024-06-01T00:00:00",
          "2024-07-01T00:00:00",
          "2024-08-01T00:00:00",
          "2024-09-01T00:00:00",
          "2024-10-01T00:00:00",
          "2024-11-01T00:00:00",
          "2024-12-01T00:00:00"
         ],
         "xaxis": "x",
         "y": [
          8.585265159606934,
          8.393869400024414,
          8.238333702087402,
          8.525508880615234,
          8.741168022155762,
          9.80112075805664,
          10.929901123046875,
          10.384593963623047,
          11.183052062988281,
          11.788957595825195,
          14.063535690307617,
          16.02373695373535,
          18.240297317504883,
          19.97130584716797,
          15.589868545532227,
          18.565427780151367,
          19.443967819213867,
          23.525197982788086,
          31.330455780029297,
          30.117734909057617,
          30.621103286743164,
          35.36142349243164,
          34.30751419067383,
          35.31944274902344,
          39.0931510925293,
          36.41508865356445,
          34.78678512573242,
          32.830745697021484,
          32.02428436279297,
          31.592924118041992,
          33.507667541503906,
          33.36692810058594,
          37.35136795043945,
          34.89004898071289,
          30.392065048217773,
          31.203027725219727,
          30.35392951965332,
          27.74892807006836,
          33.139862060546875,
          28.6385555267334,
          24.138212203979492,
          25.165775299072266,
          26.722299575805664,
          27.098926544189453,
          30.786827087402344,
          38.6398811340332,
          37.41200637817383,
          36.941959381103516,
          36.73626708984375,
          37.620086669921875,
          39.17921447753906,
          39.7830696105957,
          36.38718795776367,
          36.52263641357422,
          38.68368911743164,
          34.89911651611328,
          35.27845001220703,
          32.1631965637207,
          33.31292724609375,
          35.96315383911133,
          31.57343292236328,
          35.82032012939453,
          37.60593795776367,
          38.99161911010742,
          37.01985549926758,
          41.59434509277344,
          49.94476318359375,
          53.465030670166016,
          53.9049186706543,
          53.694557189941406,
          53.52585983276367,
          52.364845275878906
         ],
         "yaxis": "y"
        },
        {
         "hovertemplate": "Variável=Selic<br>Data=%{x}<br>Valor (%)=%{y}<extra></extra>",
         "legendgroup": "Selic",
         "line": {
          "color": "#19D3F3",
          "dash": "solid"
         },
         "marker": {
          "symbol": "circle"
         },
         "mode": "lines",
         "name": "Selic",
         "showlegend": true,
         "type": "scattergl",
         "x": [
          "2019-01-01T00:00:00",
          "2019-02-01T00:00:00",
          "2019-03-01T00:00:00",
          "2019-04-01T00:00:00",
          "2019-05-01T00:00:00",
          "2019-06-01T00:00:00",
          "2019-07-01T00:00:00",
          "2019-08-01T00:00:00",
          "2019-09-01T00:00:00",
          "2019-10-01T00:00:00",
          "2019-11-01T00:00:00",
          "2019-12-01T00:00:00",
          "2020-01-01T00:00:00",
          "2020-02-01T00:00:00",
          "2020-03-01T00:00:00",
          "2020-04-01T00:00:00",
          "2020-05-01T00:00:00",
          "2020-06-01T00:00:00",
          "2020-07-01T00:00:00",
          "2020-08-01T00:00:00",
          "2020-09-01T00:00:00",
          "2020-10-01T00:00:00",
          "2020-11-01T00:00:00",
          "2020-12-01T00:00:00",
          "2021-01-01T00:00:00",
          "2021-02-01T00:00:00",
          "2021-03-01T00:00:00",
          "2021-04-01T00:00:00",
          "2021-05-01T00:00:00",
          "2021-06-01T00:00:00",
          "2021-07-01T00:00:00",
          "2021-08-01T00:00:00",
          "2021-09-01T00:00:00",
          "2021-10-01T00:00:00",
          "2021-11-01T00:00:00",
          "2021-12-01T00:00:00",
          "2022-01-01T00:00:00",
          "2022-02-01T00:00:00",
          "2022-03-01T00:00:00",
          "2022-04-01T00:00:00",
          "2022-05-01T00:00:00",
          "2022-06-01T00:00:00",
          "2022-07-01T00:00:00",
          "2022-08-01T00:00:00",
          "2022-09-01T00:00:00",
          "2022-10-01T00:00:00",
          "2022-11-01T00:00:00",
          "2022-12-01T00:00:00",
          "2023-01-01T00:00:00",
          "2023-02-01T00:00:00",
          "2023-03-01T00:00:00",
          "2023-04-01T00:00:00",
          "2023-05-01T00:00:00",
          "2023-06-01T00:00:00",
          "2023-07-01T00:00:00",
          "2023-08-01T00:00:00",
          "2023-09-01T00:00:00",
          "2023-10-01T00:00:00",
          "2023-11-01T00:00:00",
          "2023-12-01T00:00:00",
          "2024-01-01T00:00:00",
          "2024-02-01T00:00:00",
          "2024-03-01T00:00:00",
          "2024-04-01T00:00:00",
          "2024-05-01T00:00:00",
          "2024-06-01T00:00:00",
          "2024-07-01T00:00:00",
          "2024-08-01T00:00:00",
          "2024-09-01T00:00:00",
          "2024-10-01T00:00:00",
          "2024-11-01T00:00:00",
          "2024-12-01T00:00:00"
         ],
         "xaxis": "x",
         "y": [
          6.4,
          6.4,
          6.4,
          6.4,
          6.4,
          6.4,
          6.4,
          5.9,
          5.71,
          5.38,
          4.9,
          4.59,
          4.4,
          4.19,
          3.95,
          3.65,
          3.01,
          2.58,
          2.15,
          1.94,
          1.9,
          1.9,
          1.9,
          1.9,
          1.9,
          1.9,
          2.23,
          2.65,
          3.29,
          3.76,
          4.15,
          5.01,
          5.43,
          6.3,
          7.65,
          8.76,
          9.15,
          10.49,
          11.15,
          11.65,
          12.51,
          12.89,
          13.15,
          13.58,
          13.65,
          13.65,
          13.65,
          13.65,
          13.65,
          13.65,
          13.65,
          13.65,
          13.65,
          13.65,
          13.65,
          13.19,
          12.97,
          12.65,
          12.17,
          11.87,
          11.65,
          11.15,
          11,
          10.65,
          10.46,
          10.4,
          10.4,
          10.4,
          10.5,
          10.65,
          11.04,
          11.77
         ],
         "yaxis": "y"
        },
        {
         "hovertemplate": "Variável=Fed_Funds<br>Data=%{x}<br>Valor (%)=%{y}<extra></extra>",
         "legendgroup": "Fed_Funds",
         "line": {
          "color": "#FF6692",
          "dash": "solid"
         },
         "marker": {
          "symbol": "circle"
         },
         "mode": "lines",
         "name": "Fed_Funds",
         "showlegend": true,
         "type": "scattergl",
         "x": [
          "2019-01-01T00:00:00",
          "2019-02-01T00:00:00",
          "2019-03-01T00:00:00",
          "2019-04-01T00:00:00",
          "2019-05-01T00:00:00",
          "2019-06-01T00:00:00",
          "2019-07-01T00:00:00",
          "2019-08-01T00:00:00",
          "2019-09-01T00:00:00",
          "2019-10-01T00:00:00",
          "2019-11-01T00:00:00",
          "2019-12-01T00:00:00",
          "2020-01-01T00:00:00",
          "2020-02-01T00:00:00",
          "2020-03-01T00:00:00",
          "2020-04-01T00:00:00",
          "2020-05-01T00:00:00",
          "2020-06-01T00:00:00",
          "2020-07-01T00:00:00",
          "2020-08-01T00:00:00",
          "2020-09-01T00:00:00",
          "2020-10-01T00:00:00",
          "2020-11-01T00:00:00",
          "2020-12-01T00:00:00",
          "2021-01-01T00:00:00",
          "2021-02-01T00:00:00",
          "2021-03-01T00:00:00",
          "2021-04-01T00:00:00",
          "2021-05-01T00:00:00",
          "2021-06-01T00:00:00",
          "2021-07-01T00:00:00",
          "2021-08-01T00:00:00",
          "2021-09-01T00:00:00",
          "2021-10-01T00:00:00",
          "2021-11-01T00:00:00",
          "2021-12-01T00:00:00",
          "2022-01-01T00:00:00",
          "2022-02-01T00:00:00",
          "2022-03-01T00:00:00",
          "2022-04-01T00:00:00",
          "2022-05-01T00:00:00",
          "2022-06-01T00:00:00",
          "2022-07-01T00:00:00",
          "2022-08-01T00:00:00",
          "2022-09-01T00:00:00",
          "2022-10-01T00:00:00",
          "2022-11-01T00:00:00",
          "2022-12-01T00:00:00",
          "2023-01-01T00:00:00",
          "2023-02-01T00:00:00",
          "2023-03-01T00:00:00",
          "2023-04-01T00:00:00",
          "2023-05-01T00:00:00",
          "2023-06-01T00:00:00",
          "2023-07-01T00:00:00",
          "2023-08-01T00:00:00",
          "2023-09-01T00:00:00",
          "2023-10-01T00:00:00",
          "2023-11-01T00:00:00",
          "2023-12-01T00:00:00",
          "2024-01-01T00:00:00",
          "2024-02-01T00:00:00",
          "2024-03-01T00:00:00",
          "2024-04-01T00:00:00",
          "2024-05-01T00:00:00",
          "2024-06-01T00:00:00",
          "2024-07-01T00:00:00",
          "2024-08-01T00:00:00",
          "2024-09-01T00:00:00",
          "2024-10-01T00:00:00",
          "2024-11-01T00:00:00",
          "2024-12-01T00:00:00"
         ],
         "xaxis": "x",
         "y": [
          2.4,
          2.4,
          2.41,
          2.42,
          2.39,
          2.38,
          2.4,
          2.13,
          2.04,
          1.83,
          1.55,
          1.55,
          1.55,
          1.58,
          0.65,
          0.05,
          0.05,
          0.08,
          0.09,
          0.1,
          0.09,
          0.09,
          0.09,
          0.09,
          0.09,
          0.08,
          0.07,
          0.07,
          0.06,
          0.08,
          0.1,
          0.09,
          0.08,
          0.08,
          0.08,
          0.08,
          0.08,
          0.08,
          0.2,
          0.33,
          0.77,
          1.21,
          1.68,
          2.33,
          2.56,
          3.08,
          3.78,
          4.1,
          4.33,
          4.57,
          4.65,
          4.83,
          5.06,
          5.08,
          5.12,
          5.33,
          5.33,
          5.33,
          5.33,
          5.33,
          5.33,
          5.33,
          5.33,
          5.33,
          5.33,
          5.33,
          5.33,
          5.33,
          5.13,
          4.83,
          4.64,
          4.48
         ],
         "yaxis": "y"
        }
       ],
       "layout": {
        "height": 800,
        "hovermode": "x unified",
        "legend": {
         "title": {
          "text": "Selecione variáveis para visualizar"
         },
         "tracegroupgap": 0
        },
        "template": {
         "data": {
          "candlestick": [
           {
            "decreasing": {
             "line": {
              "color": "#000033"
             }
            },
            "increasing": {
             "line": {
              "color": "#000032"
             }
            },
            "type": "candlestick"
           }
          ],
          "contour": [
           {
            "colorscale": [
             [
              0,
              "#000011"
             ],
             [
              0.1111111111111111,
              "#000012"
             ],
             [
              0.2222222222222222,
              "#000013"
             ],
             [
              0.3333333333333333,
              "#000014"
             ],
             [
              0.4444444444444444,
              "#000015"
             ],
             [
              0.5555555555555556,
              "#000016"
             ],
             [
              0.6666666666666666,
              "#000017"
             ],
             [
              0.7777777777777778,
              "#000018"
             ],
             [
              0.8888888888888888,
              "#000019"
             ],
             [
              1,
              "#000020"
             ]
            ],
            "type": "contour"
           }
          ],
          "contourcarpet": [
           {
            "colorscale": [
             [
              0,
              "#000011"
             ],
             [
              0.1111111111111111,
              "#000012"
             ],
             [
              0.2222222222222222,
              "#000013"
             ],
             [
              0.3333333333333333,
              "#000014"
             ],
             [
              0.4444444444444444,
              "#000015"
             ],
             [
              0.5555555555555556,
              "#000016"
             ],
             [
              0.6666666666666666,
              "#000017"
             ],
             [
              0.7777777777777778,
              "#000018"
             ],
             [
              0.8888888888888888,
              "#000019"
             ],
             [
              1,
              "#000020"
             ]
            ],
            "type": "contourcarpet"
           }
          ],
          "heatmap": [
           {
            "colorscale": [
             [
              0,
              "#000011"
             ],
             [
              0.1111111111111111,
              "#000012"
             ],
             [
              0.2222222222222222,
              "#000013"
             ],
             [
              0.3333333333333333,
              "#000014"
             ],
             [
              0.4444444444444444,
              "#000015"
             ],
             [
              0.5555555555555556,
              "#000016"
             ],
             [
              0.6666666666666666,
              "#000017"
             ],
             [
              0.7777777777777778,
              "#000018"
             ],
             [
              0.8888888888888888,
              "#000019"
             ],
             [
              1,
              "#000020"
             ]
            ],
            "type": "heatmap"
           }
          ],
          "histogram2d": [
           {
            "colorscale": [
             [
              0,
              "#000011"
             ],
             [
              0.1111111111111111,
              "#000012"
             ],
             [
              0.2222222222222222,
              "#000013"
             ],
             [
              0.3333333333333333,
              "#000014"
             ],
             [
              0.4444444444444444,
              "#000015"
             ],
             [
              0.5555555555555556,
              "#000016"
             ],
             [
              0.6666666666666666,
              "#000017"
             ],
             [
              0.7777777777777778,
              "#000018"
             ],
             [
              0.8888888888888888,
              "#000019"
             ],
             [
              1,
              "#000020"
             ]
            ],
            "type": "histogram2d"
           }
          ],
          "icicle": [
           {
            "textfont": {
             "color": "white"
            },
            "type": "icicle"
           }
          ],
          "sankey": [
           {
            "textfont": {
             "color": "#000036"
            },
            "type": "sankey"
           }
          ],
          "scatter": [
           {
            "marker": {
             "line": {
              "width": 0
             }
            },
            "type": "scatter"
           }
          ],
          "table": [
           {
            "cells": {
             "fill": {
              "color": "#000038"
             },
             "font": {
              "color": "#000037"
             },
             "line": {
              "color": "#000039"
             }
            },
            "header": {
             "fill": {
              "color": "#000040"
             },
             "font": {
              "color": "#000036"
             },
             "line": {
              "color": "#000039"
             }
            },
            "type": "table"
           }
          ],
          "waterfall": [
           {
            "connector": {
             "line": {
              "color": "#000036",
              "width": 2
             }
            },
            "decreasing": {
             "marker": {
              "color": "#000033"
             }
            },
            "increasing": {
             "marker": {
              "color": "#000032"
             }
            },
            "totals": {
             "marker": {
              "color": "#000034"
             }
            },
            "type": "waterfall"
           }
          ]
         },
         "layout": {
          "coloraxis": {
           "colorscale": [
            [
             0,
             "#000011"
            ],
            [
             0.1111111111111111,
             "#000012"
            ],
            [
             0.2222222222222222,
             "#000013"
            ],
            [
             0.3333333333333333,
             "#000014"
            ],
            [
             0.4444444444444444,
             "#000015"
            ],
            [
             0.5555555555555556,
             "#000016"
            ],
            [
             0.6666666666666666,
             "#000017"
            ],
            [
             0.7777777777777778,
             "#000018"
            ],
            [
             0.8888888888888888,
             "#000019"
            ],
            [
             1,
             "#000020"
            ]
           ]
          },
          "colorscale": {
           "diverging": [
            [
             0,
             "#000021"
            ],
            [
             0.1,
             "#000022"
            ],
            [
             0.2,
             "#000023"
            ],
            [
             0.3,
             "#000024"
            ],
            [
             0.4,
             "#000025"
            ],
            [
             0.5,
             "#000026"
            ],
            [
             0.6,
             "#000027"
            ],
            [
             0.7,
             "#000028"
            ],
            [
             0.8,
             "#000029"
            ],
            [
             0.9,
             "#000030"
            ],
            [
             1,
             "#000031"
            ]
           ],
           "sequential": [
            [
             0,
             "#000011"
            ],
            [
             0.1111111111111111,
             "#000012"
            ],
            [
             0.2222222222222222,
             "#000013"
            ],
            [
             0.3333333333333333,
             "#000014"
            ],
            [
             0.4444444444444444,
             "#000015"
            ],
            [
             0.5555555555555556,
             "#000016"
            ],
            [
             0.6666666666666666,
             "#000017"
            ],
            [
             0.7777777777777778,
             "#000018"
            ],
            [
             0.8888888888888888,
             "#000019"
            ],
            [
             1,
             "#000020"
            ]
           ],
           "sequentialminus": [
            [
             0,
             "#000011"
            ],
            [
             0.1111111111111111,
             "#000012"
            ],
            [
             0.2222222222222222,
             "#000013"
            ],
            [
             0.3333333333333333,
             "#000014"
            ],
            [
             0.4444444444444444,
             "#000015"
            ],
            [
             0.5555555555555556,
             "#000016"
            ],
            [
             0.6666666666666666,
             "#000017"
            ],
            [
             0.7777777777777778,
             "#000018"
            ],
            [
             0.8888888888888888,
             "#000019"
            ],
            [
             1,
             "#000020"
            ]
           ]
          },
          "colorway": [
           "#000001",
           "#000002",
           "#000003",
           "#000004",
           "#000005",
           "#000006",
           "#000007",
           "#000008",
           "#000009",
           "#000010"
          ]
         }
        },
        "title": {
         "text": "Evolução de Preço das Ações mais Correlacionadas com Selic e Fed Funds"
        },
        "width": 1900,
        "xaxis": {
         "anchor": "y",
         "domain": [
          0,
          1
         ],
         "title": {
          "text": "Data"
         }
        },
        "yaxis": {
         "anchor": "x",
         "domain": [
          0,
          1
         ],
         "title": {
          "text": "Valor (%)"
         }
        }
       }
      }
     },
     "metadata": {},
     "output_type": "display_data"
    }
   ],
   "source": [
    "import plotly.express as px\n",
    "\n",
    "# Reestruturar para gráfico interativo\n",
    "df_long = df_plot.melt(id_vars=['Date'], var_name='Variável', value_name='Valor')\n",
    "\n",
    "# Gráfico com cores visíveis e interativas\n",
    "fig = px.line(\n",
    "    df_long,\n",
    "    x='Date',\n",
    "    y='Valor',\n",
    "    color='Variável',\n",
    "    color_discrete_sequence=px.colors.qualitative.Plotly,  # Cores diferentes!\n",
    "    title='Evolução de Preço das Ações mais Correlacionadas com Selic e Fed Funds',\n",
    "    labels={\n",
    "        'Valor': 'Valor (%)',\n",
    "        'Date': 'Data'\n",
    "    }\n",
    ")\n",
    "\n",
    "# Layout ajustado\n",
    "fig.update_layout(\n",
    "    height=800,\n",
    "    width=1900,\n",
    "    legend_title_text='Selecione variáveis para visualizar',\n",
    "    hovermode='x unified'\n",
    ")\n",
    "\n",
    "fig.show()\n",
    "\n"
   ]
  }
 ],
 "metadata": {
  "kernelspec": {
   "display_name": "Python 3",
   "language": "python",
   "name": "python3"
  },
  "language_info": {
   "codemirror_mode": {
    "name": "ipython",
    "version": 3
   },
   "file_extension": ".py",
   "mimetype": "text/x-python",
   "name": "python",
   "nbconvert_exporter": "python",
   "pygments_lexer": "ipython3",
   "version": "3.12.2"
  }
 },
 "nbformat": 4,
 "nbformat_minor": 2
}
